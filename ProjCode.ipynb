{
 "cells": [
  {
   "cell_type": "markdown",
   "metadata": {},
   "source": [
    "# Importing required libraries"
   ]
  },
  {
   "cell_type": "code",
   "execution_count": 1,
   "metadata": {},
   "outputs": [],
   "source": [
    "from __future__ import division\n",
    "from PIL import ImageTk,Image \n",
    "import pandas as pd\n",
    "import numpy as np\n",
    "import pandas as pd\n",
    "from sklearn import *\n",
    "from datetime import datetime\n",
    "from sklearn.svm import SVC\n",
    "import seaborn as sns\n",
    "import numpy as np\n",
    "import matplotlib.pyplot as plt\n",
    "import seaborn as sns\n",
    "import math\n",
    "from sklearn.preprocessing import StandardScaler\n",
    "from sklearn.neighbors import KNeighborsClassifier\n",
    "from sklearn.metrics import accuracy_score\n",
    "from sklearn.model_selection import train_test_split\n",
    "from sklearn.ensemble import GradientBoostingClassifier\n",
    "from sklearn.neighbors import KNeighborsClassifier\n",
    "from sklearn.metrics import accuracy_score\n",
    "from sklearn.naive_bayes import GaussianNB \n",
    "from sklearn.tree import DecisionTreeClassifier\n",
    "import matplotlib.pyplot as plt\n",
    "from sklearn import svm\n",
    "import os\n",
    "import librosa\n",
    "import numpy as np\n",
    "import pickle\n",
    "import sys\n",
    "import pyttsx3\n",
    "from termcolor import colored\n",
    "import speech_recognition as sr \n",
    "import datetime\n",
    "import time \n",
    "from datetime import timedelta\n",
    "import csv\n",
    "from tkinter import *\n",
    "from gtts import gTTS \n",
    "import math\n",
    "%matplotlib inline"
   ]
  },
  {
   "cell_type": "code",
   "execution_count": 2,
   "metadata": {},
   "outputs": [],
   "source": [
    "from sklearn.preprocessing import StandardScaler\n",
    "from sklearn.neighbors import KNeighborsClassifier\n",
    "from sklearn.metrics import accuracy_score"
   ]
  },
  {
   "cell_type": "code",
   "execution_count": 3,
   "metadata": {},
   "outputs": [],
   "source": [
    "df=pd.read_csv('data.csv')"
   ]
  },
  {
   "cell_type": "code",
   "execution_count": 4,
   "metadata": {},
   "outputs": [],
   "source": [
    "df.columns = ['Diagnosis','Imaginary_min','Imaginary_avg','Real_min','Real_avg','Gender','Age','Smoking']"
   ]
  },
  {
   "cell_type": "code",
   "execution_count": null,
   "metadata": {},
   "outputs": [],
   "source": []
  },
  {
   "cell_type": "code",
   "execution_count": 5,
   "metadata": {
    "scrolled": true
   },
   "outputs": [
    {
     "data": {
      "text/html": [
       "<div>\n",
       "<style scoped>\n",
       "    .dataframe tbody tr th:only-of-type {\n",
       "        vertical-align: middle;\n",
       "    }\n",
       "\n",
       "    .dataframe tbody tr th {\n",
       "        vertical-align: top;\n",
       "    }\n",
       "\n",
       "    .dataframe thead th {\n",
       "        text-align: right;\n",
       "    }\n",
       "</style>\n",
       "<table border=\"1\" class=\"dataframe\">\n",
       "  <thead>\n",
       "    <tr style=\"text-align: right;\">\n",
       "      <th></th>\n",
       "      <th>Diagnosis</th>\n",
       "      <th>Imaginary_min</th>\n",
       "      <th>Imaginary_avg</th>\n",
       "      <th>Real_min</th>\n",
       "      <th>Real_avg</th>\n",
       "      <th>Gender</th>\n",
       "      <th>Age</th>\n",
       "      <th>Smoking</th>\n",
       "    </tr>\n",
       "  </thead>\n",
       "  <tbody>\n",
       "    <tr>\n",
       "      <th>0</th>\n",
       "      <td>COPD</td>\n",
       "      <td>-325.39</td>\n",
       "      <td>-314.750360</td>\n",
       "      <td>-473.73</td>\n",
       "      <td>-469.263140</td>\n",
       "      <td>0</td>\n",
       "      <td>72</td>\n",
       "      <td>2</td>\n",
       "    </tr>\n",
       "    <tr>\n",
       "      <th>1</th>\n",
       "      <td>COPD</td>\n",
       "      <td>-323.00</td>\n",
       "      <td>-317.436056</td>\n",
       "      <td>-476.12</td>\n",
       "      <td>-471.897667</td>\n",
       "      <td>1</td>\n",
       "      <td>73</td>\n",
       "      <td>3</td>\n",
       "    </tr>\n",
       "    <tr>\n",
       "      <th>2</th>\n",
       "      <td>COPD</td>\n",
       "      <td>-327.78</td>\n",
       "      <td>-317.399670</td>\n",
       "      <td>-473.73</td>\n",
       "      <td>-468.856388</td>\n",
       "      <td>1</td>\n",
       "      <td>76</td>\n",
       "      <td>2</td>\n",
       "    </tr>\n",
       "    <tr>\n",
       "      <th>3</th>\n",
       "      <td>COPD</td>\n",
       "      <td>-325.39</td>\n",
       "      <td>-316.155785</td>\n",
       "      <td>-478.52</td>\n",
       "      <td>-472.869783</td>\n",
       "      <td>0</td>\n",
       "      <td>65</td>\n",
       "      <td>2</td>\n",
       "    </tr>\n",
       "    <tr>\n",
       "      <th>4</th>\n",
       "      <td>COPD</td>\n",
       "      <td>-327.78</td>\n",
       "      <td>-318.677553</td>\n",
       "      <td>-507.23</td>\n",
       "      <td>-469.024194</td>\n",
       "      <td>1</td>\n",
       "      <td>60</td>\n",
       "      <td>2</td>\n",
       "    </tr>\n",
       "  </tbody>\n",
       "</table>\n",
       "</div>"
      ],
      "text/plain": [
       "  Diagnosis  Imaginary_min  Imaginary_avg  Real_min    Real_avg  Gender  Age  \\\n",
       "0      COPD        -325.39    -314.750360   -473.73 -469.263140       0   72   \n",
       "1      COPD        -323.00    -317.436056   -476.12 -471.897667       1   73   \n",
       "2      COPD        -327.78    -317.399670   -473.73 -468.856388       1   76   \n",
       "3      COPD        -325.39    -316.155785   -478.52 -472.869783       0   65   \n",
       "4      COPD        -327.78    -318.677553   -507.23 -469.024194       1   60   \n",
       "\n",
       "   Smoking  \n",
       "0        2  \n",
       "1        3  \n",
       "2        2  \n",
       "3        2  \n",
       "4        2  "
      ]
     },
     "execution_count": 5,
     "metadata": {},
     "output_type": "execute_result"
    }
   ],
   "source": [
    "df.head() #first 5 rows"
   ]
  },
  {
   "cell_type": "code",
   "execution_count": 6,
   "metadata": {},
   "outputs": [
    {
     "data": {
      "text/plain": [
       "Diagnosis         0\n",
       "Imaginary_min    39\n",
       "Imaginary_avg    39\n",
       "Real_min         39\n",
       "Real_avg         39\n",
       "Gender            0\n",
       "Age               0\n",
       "Smoking           0\n",
       "dtype: int64"
      ]
     },
     "execution_count": 6,
     "metadata": {},
     "output_type": "execute_result"
    }
   ],
   "source": [
    "df[df['Diagnosis'] == 'COPD'].isnull().sum()"
   ]
  },
  {
   "cell_type": "code",
   "execution_count": 7,
   "metadata": {},
   "outputs": [
    {
     "data": {
      "text/plain": [
       "Diagnosis          0\n",
       "Imaginary_min    120\n",
       "Imaginary_avg    120\n",
       "Real_min         120\n",
       "Real_avg         120\n",
       "Gender             0\n",
       "Age                0\n",
       "Smoking            0\n",
       "dtype: int64"
      ]
     },
     "execution_count": 7,
     "metadata": {},
     "output_type": "execute_result"
    }
   ],
   "source": [
    "df[df['Diagnosis'] == 'HC'].isnull().sum()"
   ]
  },
  {
   "cell_type": "code",
   "execution_count": 8,
   "metadata": {},
   "outputs": [
    {
     "data": {
      "text/plain": [
       "Diagnosis         0\n",
       "Imaginary_min    70\n",
       "Imaginary_avg    70\n",
       "Real_min         70\n",
       "Real_avg         70\n",
       "Gender            0\n",
       "Age               0\n",
       "Smoking           0\n",
       "dtype: int64"
      ]
     },
     "execution_count": 8,
     "metadata": {},
     "output_type": "execute_result"
    }
   ],
   "source": [
    "df[df['Diagnosis'] == 'Infected'].isnull().sum()"
   ]
  },
  {
   "cell_type": "code",
   "execution_count": 9,
   "metadata": {},
   "outputs": [
    {
     "data": {
      "text/plain": [
       "Diagnosis         0\n",
       "Imaginary_min    70\n",
       "Imaginary_avg    70\n",
       "Real_min         70\n",
       "Real_avg         70\n",
       "Gender            0\n",
       "Age               0\n",
       "Smoking           0\n",
       "dtype: int64"
      ]
     },
     "execution_count": 9,
     "metadata": {},
     "output_type": "execute_result"
    }
   ],
   "source": [
    "df[df['Diagnosis'] == 'Asthma'].isnull().sum()"
   ]
  },
  {
   "cell_type": "code",
   "execution_count": 10,
   "metadata": {},
   "outputs": [
    {
     "data": {
      "text/plain": [
       "Diagnosis          0\n",
       "Imaginary_min    299\n",
       "Imaginary_avg    299\n",
       "Real_min         299\n",
       "Real_avg         299\n",
       "Gender             0\n",
       "Age                0\n",
       "Smoking            0\n",
       "dtype: int64"
      ]
     },
     "execution_count": 10,
     "metadata": {},
     "output_type": "execute_result"
    }
   ],
   "source": [
    "df.isnull().sum()"
   ]
  },
  {
   "cell_type": "code",
   "execution_count": 11,
   "metadata": {},
   "outputs": [
    {
     "data": {
      "text/plain": [
       "0      False\n",
       "1      False\n",
       "2      False\n",
       "3      False\n",
       "4      False\n",
       "       ...  \n",
       "393    False\n",
       "394     True\n",
       "395     True\n",
       "396    False\n",
       "397    False\n",
       "Length: 398, dtype: bool"
      ]
     },
     "execution_count": 11,
     "metadata": {},
     "output_type": "execute_result"
    }
   ],
   "source": [
    "df.duplicated()"
   ]
  },
  {
   "cell_type": "code",
   "execution_count": 12,
   "metadata": {},
   "outputs": [
    {
     "data": {
      "text/plain": [
       "<AxesSubplot:>"
      ]
     },
     "execution_count": 12,
     "metadata": {},
     "output_type": "execute_result"
    },
    {
     "data": {
      "image/png": "[encoded data removed]",
      "text/plain": [
       "<Figure size 1008x1008 with 2 Axes>"
      ]
     },
     "metadata": {
      "needs_background": "light"
     },
     "output_type": "display_data"
    }
   ],
   "source": [
    "plt.figure(figsize=(14,14))\n",
    "sns.heatmap(df.corr(),annot=True)"
   ]
  },
  {
   "cell_type": "code",
   "execution_count": 13,
   "metadata": {},
   "outputs": [],
   "source": [
    "dfn=pd.notnull(df['Imaginary_avg'])\n",
    "dfnt=df[dfn]"
   ]
  },
  {
   "cell_type": "code",
   "execution_count": 14,
   "metadata": {},
   "outputs": [],
   "source": [
    "dfnt\n",
    "G0=df[df['Gender']==0].count().Gender\n",
    "G1=df[df['Gender']==1].count().Gender\n",
    "s1=df[df['Smoking']==1].count().Smoking\n",
    "s2=df[df['Smoking']==2].count().Smoking\n",
    "s3=df[df['Smoking']==3].count().Smoking"
   ]
  },
  {
   "cell_type": "code",
   "execution_count": 15,
   "metadata": {},
   "outputs": [
    {
     "name": "stdout",
     "output_type": "stream",
     "text": [
      "78\n",
      "398\n",
      "0.09583333333333334\n",
      "0.34810126582278483\n",
      "0.0335195530726257\n",
      "0.4161073825503356\n",
      "0.14285714285714285\n"
     ]
    }
   ],
   "source": [
    "df1=df[df['Diagnosis'] == 'COPD']\n",
    "y=df1.count().Diagnosis\n",
    "print(y)\n",
    "x=df.count().Diagnosis\n",
    "print(x)\n",
    "pcopd=y/x\n",
    "ng0c=df1[df1['Gender']==0].count().Gender\n",
    "ng1c=df1[df1['Gender']==1].count().Gender\n",
    "ns1c=df1[df1['Smoking']==1].count().Smoking\n",
    "ns2c=df1[df1['Smoking']==2].count().Smoking\n",
    "ns3c=df1[df1['Smoking']==3].count().Smoking\n",
    "pg=ng0c/G0\n",
    "print(pg)\n",
    "pg=ng1c/G1\n",
    "print(pg)\n",
    "ps=ns1c/s1\n",
    "print(ps)\n",
    "ps=ns2c/s2\n",
    "print(ps)\n",
    "ps=ns3c/s3\n",
    "print(ps)"
   ]
  },
  {
   "cell_type": "code",
   "execution_count": 16,
   "metadata": {},
   "outputs": [
    {
     "name": "stdout",
     "output_type": "stream",
     "text": [
      "160\n",
      "398\n",
      "0.43333333333333335\n",
      "0.35443037974683544\n",
      "0.5195530726256983\n",
      "0.2348993288590604\n",
      "0.45714285714285713\n"
     ]
    }
   ],
   "source": [
    "df2=df[df['Diagnosis'] == 'HC']\n",
    "y1=df2.count().Diagnosis\n",
    "print(y1)\n",
    "x1=df.count().Diagnosis\n",
    "print(x1)\n",
    "ng0h=df2[df2['Gender']==0].count().Gender\n",
    "ng1h=df2[df2['Gender']==1].count().Gender\n",
    "ns1h=df2[df2['Smoking']==1].count().Smoking\n",
    "ns2h=df2[df2['Smoking']==2].count().Smoking\n",
    "ns3h=df2[df2['Smoking']==3].count().Smoking\n",
    "pgh=ng0h/G0\n",
    "print(pgh)\n",
    "pgh=ng1h/G1\n",
    "print(pgh)\n",
    "psh=ns1h/s1\n",
    "print(psh)\n",
    "psh=ns2h/s2\n",
    "print(psh)\n",
    "psh=ns3h/s3\n",
    "print(psh)\n",
    "phc=y1/x1"
   ]
  },
  {
   "cell_type": "code",
   "execution_count": 17,
   "metadata": {},
   "outputs": [
    {
     "name": "stdout",
     "output_type": "stream",
     "text": [
      "80\n",
      "398\n",
      "0.22916666666666666\n",
      "0.15822784810126583\n",
      "0.2011173184357542\n",
      "0.2348993288590604\n",
      "0.12857142857142856\n"
     ]
    }
   ],
   "source": [
    "df2=df[df['Diagnosis'] == 'Asthma']\n",
    "y2=df2.count().Diagnosis\n",
    "print(y2)\n",
    "x2=df.count().Diagnosis\n",
    "print(x2)\n",
    "ng0a=df2[df2['Gender']==0].count().Gender\n",
    "ng1a=df2[df2['Gender']==1].count().Gender\n",
    "ns1a=df2[df2['Smoking']==1].count().Smoking\n",
    "ns2a=df2[df2['Smoking']==2].count().Smoking\n",
    "ns3a=df2[df2['Smoking']==3].count().Smoking\n",
    "pga=ng0a/G0\n",
    "print(pga)\n",
    "pga=ng1a/G1\n",
    "print(pga)\n",
    "psa=ns1a/s1\n",
    "print(psa)\n",
    "psa=ns2a/s2\n",
    "print(psa)\n",
    "psa=ns3a/s3\n",
    "print(psa)\n",
    "p_asthama=y2/x2"
   ]
  },
  {
   "cell_type": "code",
   "execution_count": 18,
   "metadata": {},
   "outputs": [
    {
     "name": "stdout",
     "output_type": "stream",
     "text": [
      "80\n",
      "398\n",
      "0.24166666666666667\n",
      "0.13924050632911392\n",
      "0.24581005586592178\n",
      "0.11409395973154363\n",
      "0.2714285714285714\n"
     ]
    }
   ],
   "source": [
    "df3=df[df['Diagnosis'] == 'Infected']\n",
    "y3=df3.count().Diagnosis\n",
    "print(y3)\n",
    "x3=df.count().Diagnosis\n",
    "print(x3)\n",
    "ng0i=df3[df3['Gender']==0].count().Gender\n",
    "ng1i=df3[df3['Gender']==1].count().Gender\n",
    "ns1i=df3[df3['Smoking']==1].count().Smoking\n",
    "ns2i=df3[df3['Smoking']==2].count().Smoking\n",
    "ns3i=df3[df3['Smoking']==3].count().Smoking\n",
    "pgi=ng0i/G0\n",
    "print(pgi)\n",
    "pgi=ng1i/G1\n",
    "print(pgi)\n",
    "psi=ns1i/s1\n",
    "print(psi)\n",
    "psi=ns2i/s2\n",
    "print(psi)\n",
    "psi=ns3i/s3\n",
    "print(psi)\n",
    "p_infected=y3/x3"
   ]
  },
  {
   "cell_type": "code",
   "execution_count": 19,
   "metadata": {},
   "outputs": [],
   "source": [
    "dfcopd=dfnt[dfnt['Diagnosis']=='COPD']\n",
    "mean_age=dfcopd.Age.mean()\n",
    "std_age=dfcopd.Age.std()\n",
    "mean_img_min=dfcopd.Imaginary_min.mean()\n",
    "std_img_min=dfcopd.Imaginary_min.std()\n",
    "mean_img_avg=dfcopd.Imaginary_avg.mean()\n",
    "std_img_avg=dfcopd.Imaginary_avg.std()\n",
    "mean_real_min=dfcopd.Real_min.mean()\n",
    "std_real_min=dfcopd.Real_min.std()\n",
    "mean_real_avg=dfcopd.Real_avg.mean()\n",
    "std_real_avg=dfcopd.Real_avg.std()"
   ]
  },
  {
   "cell_type": "code",
   "execution_count": 20,
   "metadata": {},
   "outputs": [],
   "source": [
    "dfhc=dfnt[dfnt['Diagnosis']=='HC']\n",
    "mean_age_hc=dfhc.Age.mean()\n",
    "std_age_hc=dfhc.Age.std()\n",
    "mean_img_min_hc=dfhc.Imaginary_min.mean()\n",
    "std_img_min_hc=dfhc.Imaginary_min.std()\n",
    "mean_img_avg_hc=dfhc.Imaginary_avg.mean()\n",
    "std_img_avg_hc=dfhc.Imaginary_avg.std()\n",
    "mean_real_min_hc=dfhc.Real_min.mean()\n",
    "std_real_min_hc=dfhc.Real_min.std()\n",
    "mean_real_avg_hc=dfhc.Real_avg.mean()\n",
    "std_real_avg_hc=dfhc.Real_avg.std()"
   ]
  },
  {
   "cell_type": "code",
   "execution_count": 21,
   "metadata": {},
   "outputs": [
    {
     "data": {
      "text/html": [
       "<div>\n",
       "<style scoped>\n",
       "    .dataframe tbody tr th:only-of-type {\n",
       "        vertical-align: middle;\n",
       "    }\n",
       "\n",
       "    .dataframe tbody tr th {\n",
       "        vertical-align: top;\n",
       "    }\n",
       "\n",
       "    .dataframe thead th {\n",
       "        text-align: right;\n",
       "    }\n",
       "</style>\n",
       "<table border=\"1\" class=\"dataframe\">\n",
       "  <thead>\n",
       "    <tr style=\"text-align: right;\">\n",
       "      <th></th>\n",
       "      <th>Diagnosis</th>\n",
       "      <th>Imaginary_min</th>\n",
       "      <th>Imaginary_avg</th>\n",
       "      <th>Real_min</th>\n",
       "      <th>Real_avg</th>\n",
       "      <th>Gender</th>\n",
       "      <th>Age</th>\n",
       "      <th>Smoking</th>\n",
       "    </tr>\n",
       "  </thead>\n",
       "  <tbody>\n",
       "    <tr>\n",
       "      <th>255</th>\n",
       "      <td>Asthma</td>\n",
       "      <td>-320.61</td>\n",
       "      <td>-311.917780</td>\n",
       "      <td>-473.73</td>\n",
       "      <td>-469.128595</td>\n",
       "      <td>1</td>\n",
       "      <td>57</td>\n",
       "      <td>1</td>\n",
       "    </tr>\n",
       "    <tr>\n",
       "      <th>256</th>\n",
       "      <td>Asthma</td>\n",
       "      <td>-327.78</td>\n",
       "      <td>-318.229558</td>\n",
       "      <td>-471.34</td>\n",
       "      <td>-465.302094</td>\n",
       "      <td>0</td>\n",
       "      <td>46</td>\n",
       "      <td>3</td>\n",
       "    </tr>\n",
       "    <tr>\n",
       "      <th>257</th>\n",
       "      <td>Asthma</td>\n",
       "      <td>-320.61</td>\n",
       "      <td>-311.907785</td>\n",
       "      <td>-471.34</td>\n",
       "      <td>-467.755266</td>\n",
       "      <td>1</td>\n",
       "      <td>53</td>\n",
       "      <td>2</td>\n",
       "    </tr>\n",
       "    <tr>\n",
       "      <th>258</th>\n",
       "      <td>Asthma</td>\n",
       "      <td>-323.00</td>\n",
       "      <td>-313.596497</td>\n",
       "      <td>-478.52</td>\n",
       "      <td>-473.180280</td>\n",
       "      <td>0</td>\n",
       "      <td>60</td>\n",
       "      <td>1</td>\n",
       "    </tr>\n",
       "    <tr>\n",
       "      <th>259</th>\n",
       "      <td>Asthma</td>\n",
       "      <td>-320.61</td>\n",
       "      <td>-311.658041</td>\n",
       "      <td>-473.73</td>\n",
       "      <td>-469.729237</td>\n",
       "      <td>0</td>\n",
       "      <td>76</td>\n",
       "      <td>2</td>\n",
       "    </tr>\n",
       "    <tr>\n",
       "      <th>260</th>\n",
       "      <td>Asthma</td>\n",
       "      <td>-320.61</td>\n",
       "      <td>-312.022004</td>\n",
       "      <td>-473.73</td>\n",
       "      <td>-467.117838</td>\n",
       "      <td>0</td>\n",
       "      <td>44</td>\n",
       "      <td>1</td>\n",
       "    </tr>\n",
       "    <tr>\n",
       "      <th>261</th>\n",
       "      <td>Asthma</td>\n",
       "      <td>-320.61</td>\n",
       "      <td>-312.022107</td>\n",
       "      <td>-473.73</td>\n",
       "      <td>-469.531191</td>\n",
       "      <td>0</td>\n",
       "      <td>26</td>\n",
       "      <td>1</td>\n",
       "    </tr>\n",
       "    <tr>\n",
       "      <th>262</th>\n",
       "      <td>Asthma</td>\n",
       "      <td>-327.78</td>\n",
       "      <td>-315.510989</td>\n",
       "      <td>-468.95</td>\n",
       "      <td>-464.140266</td>\n",
       "      <td>0</td>\n",
       "      <td>17</td>\n",
       "      <td>3</td>\n",
       "    </tr>\n",
       "    <tr>\n",
       "      <th>263</th>\n",
       "      <td>Asthma</td>\n",
       "      <td>-320.61</td>\n",
       "      <td>-311.859266</td>\n",
       "      <td>-473.73</td>\n",
       "      <td>-470.890828</td>\n",
       "      <td>0</td>\n",
       "      <td>40</td>\n",
       "      <td>2</td>\n",
       "    </tr>\n",
       "    <tr>\n",
       "      <th>264</th>\n",
       "      <td>Asthma</td>\n",
       "      <td>-327.78</td>\n",
       "      <td>-318.446700</td>\n",
       "      <td>-478.52</td>\n",
       "      <td>-470.925927</td>\n",
       "      <td>0</td>\n",
       "      <td>58</td>\n",
       "      <td>3</td>\n",
       "    </tr>\n",
       "  </tbody>\n",
       "</table>\n",
       "</div>"
      ],
      "text/plain": [
       "    Diagnosis  Imaginary_min  Imaginary_avg  Real_min    Real_avg  Gender  \\\n",
       "255    Asthma        -320.61    -311.917780   -473.73 -469.128595       1   \n",
       "256    Asthma        -327.78    -318.229558   -471.34 -465.302094       0   \n",
       "257    Asthma        -320.61    -311.907785   -471.34 -467.755266       1   \n",
       "258    Asthma        -323.00    -313.596497   -478.52 -473.180280       0   \n",
       "259    Asthma        -320.61    -311.658041   -473.73 -469.729237       0   \n",
       "260    Asthma        -320.61    -312.022004   -473.73 -467.117838       0   \n",
       "261    Asthma        -320.61    -312.022107   -473.73 -469.531191       0   \n",
       "262    Asthma        -327.78    -315.510989   -468.95 -464.140266       0   \n",
       "263    Asthma        -320.61    -311.859266   -473.73 -470.890828       0   \n",
       "264    Asthma        -327.78    -318.446700   -478.52 -470.925927       0   \n",
       "\n",
       "     Age  Smoking  \n",
       "255   57        1  \n",
       "256   46        3  \n",
       "257   53        2  \n",
       "258   60        1  \n",
       "259   76        2  \n",
       "260   44        1  \n",
       "261   26        1  \n",
       "262   17        3  \n",
       "263   40        2  \n",
       "264   58        3  "
      ]
     },
     "execution_count": 21,
     "metadata": {},
     "output_type": "execute_result"
    }
   ],
   "source": [
    "dfasthama=dfnt[dfnt['Diagnosis']=='Asthma']\n",
    "mean_age_asthama=dfasthama.Age.mean()\n",
    "std_age_asthama=dfasthama.Age.std()\n",
    "mean_img_min_asthama=dfasthama.Imaginary_min.mean()\n",
    "std_img_min_asthama=dfasthama.Imaginary_min.std()\n",
    "mean_img_avg_asthama=dfasthama.Imaginary_avg.mean()\n",
    "std_img_avg_asthama=dfasthama.Imaginary_avg.std()\n",
    "mean_real_min_asthama=dfasthama.Real_min.mean()\n",
    "std_real_min_asthama=dfasthama.Real_min.std()\n",
    "mean_real_avg_asthama=dfasthama.Real_avg.mean()\n",
    "std_real_avg_asthama=dfasthama.Real_avg.std()\n",
    "dfasthama"
   ]
  },
  {
   "cell_type": "code",
   "execution_count": 22,
   "metadata": {},
   "outputs": [
    {
     "data": {
      "text/html": [
       "<div>\n",
       "<style scoped>\n",
       "    .dataframe tbody tr th:only-of-type {\n",
       "        vertical-align: middle;\n",
       "    }\n",
       "\n",
       "    .dataframe tbody tr th {\n",
       "        vertical-align: top;\n",
       "    }\n",
       "\n",
       "    .dataframe thead th {\n",
       "        text-align: right;\n",
       "    }\n",
       "</style>\n",
       "<table border=\"1\" class=\"dataframe\">\n",
       "  <thead>\n",
       "    <tr style=\"text-align: right;\">\n",
       "      <th></th>\n",
       "      <th>Diagnosis</th>\n",
       "      <th>Imaginary_min</th>\n",
       "      <th>Imaginary_avg</th>\n",
       "      <th>Real_min</th>\n",
       "      <th>Real_avg</th>\n",
       "      <th>Gender</th>\n",
       "      <th>Age</th>\n",
       "      <th>Smoking</th>\n",
       "    </tr>\n",
       "  </thead>\n",
       "  <tbody>\n",
       "    <tr>\n",
       "      <th>360</th>\n",
       "      <td>Infected</td>\n",
       "      <td>-320.61</td>\n",
       "      <td>-312.076969</td>\n",
       "      <td>-476.12</td>\n",
       "      <td>-470.811461</td>\n",
       "      <td>0</td>\n",
       "      <td>28</td>\n",
       "      <td>1</td>\n",
       "    </tr>\n",
       "    <tr>\n",
       "      <th>361</th>\n",
       "      <td>Infected</td>\n",
       "      <td>-327.78</td>\n",
       "      <td>-319.555285</td>\n",
       "      <td>-476.12</td>\n",
       "      <td>-472.800581</td>\n",
       "      <td>0</td>\n",
       "      <td>27</td>\n",
       "      <td>1</td>\n",
       "    </tr>\n",
       "    <tr>\n",
       "      <th>362</th>\n",
       "      <td>Infected</td>\n",
       "      <td>-320.61</td>\n",
       "      <td>-311.782675</td>\n",
       "      <td>-476.12</td>\n",
       "      <td>-473.088617</td>\n",
       "      <td>0</td>\n",
       "      <td>31</td>\n",
       "      <td>1</td>\n",
       "    </tr>\n",
       "    <tr>\n",
       "      <th>363</th>\n",
       "      <td>Infected</td>\n",
       "      <td>-320.61</td>\n",
       "      <td>-311.648344</td>\n",
       "      <td>-476.12</td>\n",
       "      <td>-472.233157</td>\n",
       "      <td>1</td>\n",
       "      <td>22</td>\n",
       "      <td>1</td>\n",
       "    </tr>\n",
       "    <tr>\n",
       "      <th>364</th>\n",
       "      <td>Infected</td>\n",
       "      <td>-320.61</td>\n",
       "      <td>-311.423617</td>\n",
       "      <td>-478.52</td>\n",
       "      <td>-472.307030</td>\n",
       "      <td>0</td>\n",
       "      <td>50</td>\n",
       "      <td>1</td>\n",
       "    </tr>\n",
       "    <tr>\n",
       "      <th>365</th>\n",
       "      <td>Infected</td>\n",
       "      <td>-323.00</td>\n",
       "      <td>-314.384434</td>\n",
       "      <td>-476.12</td>\n",
       "      <td>-472.103689</td>\n",
       "      <td>1</td>\n",
       "      <td>38</td>\n",
       "      <td>1</td>\n",
       "    </tr>\n",
       "    <tr>\n",
       "      <th>366</th>\n",
       "      <td>Infected</td>\n",
       "      <td>-323.00</td>\n",
       "      <td>-314.323628</td>\n",
       "      <td>-476.12</td>\n",
       "      <td>-472.395413</td>\n",
       "      <td>1</td>\n",
       "      <td>36</td>\n",
       "      <td>1</td>\n",
       "    </tr>\n",
       "    <tr>\n",
       "      <th>367</th>\n",
       "      <td>Infected</td>\n",
       "      <td>-323.00</td>\n",
       "      <td>-312.856656</td>\n",
       "      <td>-480.91</td>\n",
       "      <td>-472.294281</td>\n",
       "      <td>0</td>\n",
       "      <td>33</td>\n",
       "      <td>1</td>\n",
       "    </tr>\n",
       "    <tr>\n",
       "      <th>368</th>\n",
       "      <td>Infected</td>\n",
       "      <td>-327.78</td>\n",
       "      <td>-319.305447</td>\n",
       "      <td>-476.12</td>\n",
       "      <td>-471.776918</td>\n",
       "      <td>1</td>\n",
       "      <td>43</td>\n",
       "      <td>1</td>\n",
       "    </tr>\n",
       "    <tr>\n",
       "      <th>374</th>\n",
       "      <td>Infected</td>\n",
       "      <td>-327.78</td>\n",
       "      <td>-318.068499</td>\n",
       "      <td>-473.73</td>\n",
       "      <td>-457.046464</td>\n",
       "      <td>0</td>\n",
       "      <td>25</td>\n",
       "      <td>2</td>\n",
       "    </tr>\n",
       "  </tbody>\n",
       "</table>\n",
       "</div>"
      ],
      "text/plain": [
       "    Diagnosis  Imaginary_min  Imaginary_avg  Real_min    Real_avg  Gender  \\\n",
       "360  Infected        -320.61    -312.076969   -476.12 -470.811461       0   \n",
       "361  Infected        -327.78    -319.555285   -476.12 -472.800581       0   \n",
       "362  Infected        -320.61    -311.782675   -476.12 -473.088617       0   \n",
       "363  Infected        -320.61    -311.648344   -476.12 -472.233157       1   \n",
       "364  Infected        -320.61    -311.423617   -478.52 -472.307030       0   \n",
       "365  Infected        -323.00    -314.384434   -476.12 -472.103689       1   \n",
       "366  Infected        -323.00    -314.323628   -476.12 -472.395413       1   \n",
       "367  Infected        -323.00    -312.856656   -480.91 -472.294281       0   \n",
       "368  Infected        -327.78    -319.305447   -476.12 -471.776918       1   \n",
       "374  Infected        -327.78    -318.068499   -473.73 -457.046464       0   \n",
       "\n",
       "     Age  Smoking  \n",
       "360   28        1  \n",
       "361   27        1  \n",
       "362   31        1  \n",
       "363   22        1  \n",
       "364   50        1  \n",
       "365   38        1  \n",
       "366   36        1  \n",
       "367   33        1  \n",
       "368   43        1  \n",
       "374   25        2  "
      ]
     },
     "execution_count": 22,
     "metadata": {},
     "output_type": "execute_result"
    }
   ],
   "source": [
    "dfinfected=dfnt[dfnt['Diagnosis']=='Infected']\n",
    "mean_age_infected=dfinfected.Age.mean()\n",
    "std_age_infected=dfinfected.Age.std()\n",
    "mean_img_min_infected=dfinfected.Imaginary_min.mean()\n",
    "std_img_min_infected=dfinfected.Imaginary_min.std()\n",
    "mean_img_avg_infected=dfinfected.Imaginary_avg.mean()\n",
    "std_img_avg_infected=dfinfected.Imaginary_avg.std()\n",
    "mean_real_min_infected=dfinfected.Real_min.mean()\n",
    "std_real_min_infected=dfinfected.Real_min.std()\n",
    "mean_real_avg_infected=dfinfected.Real_avg.mean()\n",
    "std_real_avg_infected=dfinfected.Real_avg.std()\n",
    "dfinfected"
   ]
  },
  {
   "cell_type": "code",
   "execution_count": 23,
   "metadata": {},
   "outputs": [],
   "source": [
    "def normpdf(x, mean, sd):\n",
    "    var = float(sd)**2\n",
    "    denom = (2*math.pi*var)**.5\n",
    "    num = math.exp(-(float(x)-float(mean))*(float(x)-float(mean))/(2*var))\n",
    "    return num/denom"
   ]
  },
  {
   "cell_type": "code",
   "execution_count": 24,
   "metadata": {},
   "outputs": [
    {
     "name": "stdout",
     "output_type": "stream",
     "text": [
      "4.347214659027409e-11\n"
     ]
    }
   ],
   "source": [
    "p=[]\n",
    "for i in range(len(dfcopd)):\n",
    "    #print(dfcopd.iloc[i, 0], dfcopd.iloc[i, 5])\n",
    "    p_img_min=normpdf(dfcopd.iloc[i,1],mean_img_min,std_img_min)\n",
    "    p_img_avg=normpdf(dfcopd.iloc[i,2],mean_img_avg,std_img_avg)\n",
    "    p_real_min=normpdf(dfcopd.iloc[i,3],mean_real_min,std_real_min)\n",
    "    p_real_avg=normpdf(dfcopd.iloc[i,4],mean_real_avg,std_real_avg)\n",
    "    if(dfcopd.iloc[i,5]==0):\n",
    "        pg=ng0c/G0\n",
    "    if(dfcopd.iloc[i,5]==1):\n",
    "        pg=ng1c/G1\n",
    "    p_age=normpdf(dfcopd.iloc[i,6],mean_age,std_age)\n",
    "    if(dfcopd.iloc[i,7]==1):\n",
    "        ps=ns1c/s1\n",
    "    if(dfcopd.iloc[i,7]==2):\n",
    "        ps=ns2c/s2\n",
    "    if(dfcopd.iloc[i,7]==3):\n",
    "        ps=ns3c/s3\n",
    "    px=float(p_img_min*p_img_avg*p_real_min*p_real_avg*pg*p_age*ps*pcopd)\n",
    "    #print(px)\n",
    "    p.append(px)\n",
    "x=np.mean(p)\n",
    "print(x)"
   ]
  },
  {
   "cell_type": "code",
   "execution_count": 25,
   "metadata": {},
   "outputs": [
    {
     "name": "stdout",
     "output_type": "stream",
     "text": [
      "4.928506079780247e-12\n"
     ]
    }
   ],
   "source": [
    "p1=[]\n",
    "for i in range(len(dfhc)):\n",
    "    p_img_min_hc=normpdf(dfhc.iloc[i,1],mean_img_min_hc,std_img_min_hc)\n",
    "    p_img_avg_hc=normpdf(dfhc.iloc[i,2],mean_img_avg_hc,std_img_avg_hc)\n",
    "    p_real_min_hc=normpdf(dfhc.iloc[i,3],mean_real_min_hc,std_real_min_hc)\n",
    "    p_real_avg_hc=normpdf(dfhc.iloc[i,4],mean_real_avg_hc,std_real_avg_hc)\n",
    "    if(dfhc.iloc[i,5]==0):\n",
    "        pg_hc=ng0h/G0\n",
    "    if(dfhc.iloc[i,5]==1):\n",
    "        pg_hc=ng1h/G1\n",
    "    p_age_hc=normpdf(dfhc.iloc[i,6],mean_age_hc,std_age_hc)\n",
    "    if(dfhc.iloc[i,7]==1):\n",
    "        ps_hc=ns1h/s1\n",
    "    if(dfhc.iloc[i,7]==2):\n",
    "        ps_hc=ns2h/s2\n",
    "    if(dfhc.iloc[i,7]==3):\n",
    "        ps_hc=ns3h/s3\n",
    "    px_hc=float(p_img_min_hc*p_img_avg_hc*p_real_min_hc*p_real_avg_hc*pg_hc*p_age_hc*ps_hc*phc)\n",
    "    #print(px_hc)\n",
    "    p1.append(px_hc)\n",
    "x_hc=np.mean(p1)\n",
    "print(x_hc)"
   ]
  },
  {
   "cell_type": "code",
   "execution_count": 26,
   "metadata": {},
   "outputs": [
    {
     "name": "stdout",
     "output_type": "stream",
     "text": [
      "1.6230300364683213e-08\n"
     ]
    }
   ],
   "source": [
    "p2=[]\n",
    "for i in range(len(dfasthama)):\n",
    "    p_img_min_asthama=normpdf(dfasthama.iloc[i,1],mean_img_min_asthama,std_img_min_asthama)\n",
    "    p_img_avg_asthama=normpdf(dfasthama.iloc[i,2],mean_img_avg_asthama,std_img_avg_asthama)\n",
    "    p_real_min_asthama=normpdf(dfasthama.iloc[i,3],mean_real_min_asthama,std_real_min_asthama)\n",
    "    p_real_avg_asthama=normpdf(dfasthama.iloc[i,4],mean_real_avg_asthama,std_real_avg_asthama)\n",
    "    if(dfasthama.iloc[i,5]==0):\n",
    "        pg_asthama=ng0a/G0\n",
    "    if(dfasthama.iloc[i,5]==1):\n",
    "        pg_asthama=ng1a/G1\n",
    "    p_age_asthama=normpdf(dfasthama.iloc[i,6],mean_age_asthama,std_age_asthama)\n",
    "    if(dfasthama.iloc[i,7]==1):\n",
    "        ps_asthama=ns1a/s1\n",
    "    if(dfasthama.iloc[i,7]==2):\n",
    "        ps_asthama=ns2a/s2\n",
    "    if(dfasthama.iloc[i,7]==3):\n",
    "        ps_asthama=ns3a/s3\n",
    "    px_asthama=float(p_img_min_asthama*p_img_avg_asthama*p_real_min_asthama*p_real_avg_asthama*pg_asthama*p_age_asthama*ps_asthama*p_asthama)\n",
    "    p2.append(px_asthama)\n",
    "x_asthama=np.mean(p2)\n",
    "print(x_asthama)"
   ]
  },
  {
   "cell_type": "code",
   "execution_count": 27,
   "metadata": {},
   "outputs": [
    {
     "name": "stdout",
     "output_type": "stream",
     "text": [
      "3.054978696236462e-08\n"
     ]
    }
   ],
   "source": [
    "p3=[]\n",
    "for i in range(len(dfinfected)):\n",
    "    p_img_min_infected=normpdf(dfinfected.iloc[i,1],mean_img_min_infected,std_img_min_infected)\n",
    "    p_img_avg_infected=normpdf(dfinfected.iloc[i,2],mean_img_avg_infected,std_img_avg_infected)\n",
    "    p_real_min_infected=normpdf(dfinfected.iloc[i,3],mean_real_min_infected,std_real_min_infected)\n",
    "    p_real_avg_infected=normpdf(dfinfected.iloc[i,4],mean_real_avg_infected,std_real_avg_infected)\n",
    "    if(dfinfected.iloc[i,5]==0):\n",
    "        pg_infected=ng0i/G0\n",
    "    if(dfinfected.iloc[i,5]==1):\n",
    "        pg_infected=ng1i/G1\n",
    "    p_age_infected=normpdf(dfinfected.iloc[i,6],mean_age_infected,std_age_infected)\n",
    "    if(dfinfected.iloc[i,7]==1):\n",
    "        ps_infected=ns1i/s1\n",
    "    if(dfinfected.iloc[i,7]==2):\n",
    "        ps_infected=ns2i/s2\n",
    "    if(dfinfected.iloc[i,7]==3):\n",
    "        ps_infected=ns3i/s3\n",
    "    px_infected=float(p_img_min_infected*p_img_avg_infected*p_real_min_infected*p_real_avg_infected*pg_infected*p_age_infected*ps_infected*p_infected)\n",
    "    p3.append(px_infected)\n",
    "x_infected=np.mean(p3)\n",
    "print(x_infected)"
   ]
  },
  {
   "cell_type": "code",
   "execution_count": 28,
   "metadata": {},
   "outputs": [
    {
     "data": {
      "text/plain": [
       "(398, 8)"
      ]
     },
     "execution_count": 28,
     "metadata": {},
     "output_type": "execute_result"
    }
   ],
   "source": [
    "df.shape #rows and columns"
   ]
  },
  {
   "cell_type": "code",
   "execution_count": 29,
   "metadata": {},
   "outputs": [],
   "source": [
    "from scipy.stats import invgauss\n",
    "df=df.replace(np.nan,0)\n",
    "count=0\n",
    "for i in range(len(df)):\n",
    "    if(df.iloc[i,0]=='COPD'):\n",
    "        if(df.iloc[i,1]==0):\n",
    "            if(df.iloc[i,5]==0):\n",
    "                pg=ng0c/G0\n",
    "            if(df.iloc[i,5]==1):\n",
    "                pg=ng1c/G1\n",
    "            if(df.iloc[i,7]==1):\n",
    "                ps=ns1c/s1\n",
    "            if(df.iloc[i,7]==2):\n",
    "                ps=ns2c/s2\n",
    "            if(df.iloc[i,7]==3):\n",
    "                ps=ns3c/s3\n",
    "            m=math.log(x)-math.log(pcopd)-(math.log(normpdf(df.iloc[i,6],mean_age,std_age))+math.log(ps)+math.log(pg))\n",
    "            \n",
    "            n=math.exp(m)\n",
    "        \n",
    "            df.iloc[i,1]=invgauss.rvs(n,mean_img_min,std_img_min)\n",
    "            df.iloc[i,2]=invgauss.rvs(n,mean_img_avg,std_img_avg)\n",
    "            df.iloc[i,3]=invgauss.rvs(n,mean_real_min,std_real_min)\n",
    "            df.iloc[i,4]=invgauss.rvs(n,mean_real_avg,std_real_avg)\n",
    "    if(df.iloc[i,0]=='HC'):\n",
    "        if(df.iloc[i,1]==0):\n",
    "            if(df.iloc[i,5]==0):\n",
    "                pg_hc=ng0h/G0\n",
    "            if(df.iloc[i,5]==1):\n",
    "                pg_hc=ng1h/G1\n",
    "            if(df.iloc[i,7]==1):\n",
    "                ps_hc=ns1h/s1\n",
    "            if(df.iloc[i,7]==2):\n",
    "                ps_hc=ns2h/s2\n",
    "            if(df.iloc[i,7]==3):\n",
    "                ps_hc=ns3h/s3\n",
    "            m_hc=math.log(x_hc)-math.log(phc)-(math.log(normpdf(df.iloc[i,6],mean_age_hc,std_age_hc))+math.log(ps_hc)+math.log(pg_hc))\n",
    "        \n",
    "            n_hc=math.exp(m_hc)\n",
    "            \n",
    "            df.iloc[i,1]=invgauss.rvs(n_hc,mean_img_min_hc,std_img_min_hc)\n",
    "            df.iloc[i,2]=invgauss.rvs(n_hc,mean_img_avg_hc,std_img_avg_hc)\n",
    "            df.iloc[i,3]=invgauss.rvs(n_hc,mean_real_min_hc,std_real_min_hc)\n",
    "            df.iloc[i,4]=invgauss.rvs(n_hc,mean_real_avg_hc,std_real_avg_hc)\n",
    "    if(df.iloc[i,0]=='Asthma'):\n",
    "        if(df.iloc[i,1]==0):\n",
    "            if(df.iloc[i,5]==0):\n",
    "                pg_asthama=ng0a/G0\n",
    "            if(df.iloc[i,5]==1):\n",
    "                pg_asthama=ng1a/G1\n",
    "            if(df.iloc[i,7]==1):\n",
    "                ps_asthama=ns1a/s1\n",
    "            if(df.iloc[i,7]==2):\n",
    "                ps_asthama=ns2a/s2\n",
    "            if(df.iloc[i,7]==3):\n",
    "                ps_asthama=ns3a/s3\n",
    "            m_asthama=math.log(x_asthama)-math.log(p_asthama)-(math.log(normpdf(df.iloc[i,6],mean_age_asthama,std_age_asthama))+math.log(ps_asthama)+math.log(pg_asthama))\n",
    "            \n",
    "            n_asthama=math.exp(m_asthama)\n",
    "        \n",
    "            df.iloc[i,1]=invgauss.rvs(n_asthama,mean_img_min_asthama,std_img_min_asthama)\n",
    "            df.iloc[i,2]=invgauss.rvs(n_asthama,mean_img_avg_asthama,std_img_avg_asthama)\n",
    "            df.iloc[i,3]=invgauss.rvs(n_asthama,mean_real_min_asthama,std_real_min_asthama)\n",
    "            df.iloc[i,4]=invgauss.rvs(n_asthama,mean_real_avg_asthama,std_real_avg_asthama)\n",
    "    if(df.iloc[i,0]=='Infected'):\n",
    "        if(df.iloc[i,1]==0):\n",
    "            if(df.iloc[i,5]==0):\n",
    "                pg_infected=ng0i/G0\n",
    "            if(df.iloc[i,5]==1):\n",
    "                pg_infected=ng1i/G1\n",
    "            if(df.iloc[i,7]==1):\n",
    "                ps_infected=ns1i/s1\n",
    "            if(df.iloc[i,7]==2):\n",
    "                ps_infected=ns2i/s2\n",
    "            if(df.iloc[i,7]==3):\n",
    "                ps_infected=ns3i/s3\n",
    "            m_infected=math.log(x_infected)-math.log(p_infected)-(math.log(normpdf(df.iloc[i,6],mean_age_infected,std_age_infected))+math.log(ps_infected)+math.log(pg_infected))\n",
    "            n_infected=math.exp(m_infected)\n",
    "            df.iloc[i,1]=invgauss.rvs(n_infected,mean_img_min_infected,std_img_min_infected)\n",
    "            df.iloc[i,2]=invgauss.rvs(n_infected,mean_img_avg_infected,std_img_avg_infected)\n",
    "            df.iloc[i,3]=invgauss.rvs(n_infected,mean_real_min_infected,std_real_min_infected)\n",
    "            df.iloc[i,4]=invgauss.rvs(n_infected,mean_real_avg_infected,std_real_avg_infected)\n",
    "        "
   ]
  },
  {
   "cell_type": "code",
   "execution_count": 30,
   "metadata": {},
   "outputs": [
    {
     "data": {
      "text/html": [
       "<div>\n",
       "<style scoped>\n",
       "    .dataframe tbody tr th:only-of-type {\n",
       "        vertical-align: middle;\n",
       "    }\n",
       "\n",
       "    .dataframe tbody tr th {\n",
       "        vertical-align: top;\n",
       "    }\n",
       "\n",
       "    .dataframe thead th {\n",
       "        text-align: right;\n",
       "    }\n",
       "</style>\n",
       "<table border=\"1\" class=\"dataframe\">\n",
       "  <thead>\n",
       "    <tr style=\"text-align: right;\">\n",
       "      <th></th>\n",
       "      <th>Diagnosis</th>\n",
       "      <th>Imaginary_min</th>\n",
       "      <th>Imaginary_avg</th>\n",
       "      <th>Real_min</th>\n",
       "      <th>Real_avg</th>\n",
       "      <th>Gender</th>\n",
       "      <th>Age</th>\n",
       "      <th>Smoking</th>\n",
       "    </tr>\n",
       "  </thead>\n",
       "  <tbody>\n",
       "    <tr>\n",
       "      <th>0</th>\n",
       "      <td>COPD</td>\n",
       "      <td>-325.390000</td>\n",
       "      <td>-314.750360</td>\n",
       "      <td>-473.730000</td>\n",
       "      <td>-469.263140</td>\n",
       "      <td>0</td>\n",
       "      <td>72</td>\n",
       "      <td>2</td>\n",
       "    </tr>\n",
       "    <tr>\n",
       "      <th>1</th>\n",
       "      <td>COPD</td>\n",
       "      <td>-323.000000</td>\n",
       "      <td>-317.436056</td>\n",
       "      <td>-476.120000</td>\n",
       "      <td>-471.897667</td>\n",
       "      <td>1</td>\n",
       "      <td>73</td>\n",
       "      <td>3</td>\n",
       "    </tr>\n",
       "    <tr>\n",
       "      <th>2</th>\n",
       "      <td>COPD</td>\n",
       "      <td>-327.780000</td>\n",
       "      <td>-317.399670</td>\n",
       "      <td>-473.730000</td>\n",
       "      <td>-468.856388</td>\n",
       "      <td>1</td>\n",
       "      <td>76</td>\n",
       "      <td>2</td>\n",
       "    </tr>\n",
       "    <tr>\n",
       "      <th>3</th>\n",
       "      <td>COPD</td>\n",
       "      <td>-325.390000</td>\n",
       "      <td>-316.155785</td>\n",
       "      <td>-478.520000</td>\n",
       "      <td>-472.869783</td>\n",
       "      <td>0</td>\n",
       "      <td>65</td>\n",
       "      <td>2</td>\n",
       "    </tr>\n",
       "    <tr>\n",
       "      <th>4</th>\n",
       "      <td>COPD</td>\n",
       "      <td>-327.780000</td>\n",
       "      <td>-318.677553</td>\n",
       "      <td>-507.230000</td>\n",
       "      <td>-469.024194</td>\n",
       "      <td>1</td>\n",
       "      <td>60</td>\n",
       "      <td>2</td>\n",
       "    </tr>\n",
       "    <tr>\n",
       "      <th>...</th>\n",
       "      <td>...</td>\n",
       "      <td>...</td>\n",
       "      <td>...</td>\n",
       "      <td>...</td>\n",
       "      <td>...</td>\n",
       "      <td>...</td>\n",
       "      <td>...</td>\n",
       "      <td>...</td>\n",
       "    </tr>\n",
       "    <tr>\n",
       "      <th>393</th>\n",
       "      <td>Infected</td>\n",
       "      <td>-323.476086</td>\n",
       "      <td>-314.540563</td>\n",
       "      <td>-476.598824</td>\n",
       "      <td>-470.682756</td>\n",
       "      <td>0</td>\n",
       "      <td>49</td>\n",
       "      <td>2</td>\n",
       "    </tr>\n",
       "    <tr>\n",
       "      <th>394</th>\n",
       "      <td>Infected</td>\n",
       "      <td>-323.477808</td>\n",
       "      <td>-314.542360</td>\n",
       "      <td>-476.599886</td>\n",
       "      <td>-470.685468</td>\n",
       "      <td>0</td>\n",
       "      <td>37</td>\n",
       "      <td>1</td>\n",
       "    </tr>\n",
       "    <tr>\n",
       "      <th>395</th>\n",
       "      <td>Infected</td>\n",
       "      <td>-323.477804</td>\n",
       "      <td>-314.542351</td>\n",
       "      <td>-476.599882</td>\n",
       "      <td>-470.685455</td>\n",
       "      <td>0</td>\n",
       "      <td>29</td>\n",
       "      <td>1</td>\n",
       "    </tr>\n",
       "    <tr>\n",
       "      <th>396</th>\n",
       "      <td>Infected</td>\n",
       "      <td>-323.475639</td>\n",
       "      <td>-314.539881</td>\n",
       "      <td>-476.598564</td>\n",
       "      <td>-470.681990</td>\n",
       "      <td>1</td>\n",
       "      <td>51</td>\n",
       "      <td>1</td>\n",
       "    </tr>\n",
       "    <tr>\n",
       "      <th>397</th>\n",
       "      <td>Infected</td>\n",
       "      <td>-323.477763</td>\n",
       "      <td>-314.542312</td>\n",
       "      <td>-476.599858</td>\n",
       "      <td>-470.685393</td>\n",
       "      <td>0</td>\n",
       "      <td>40</td>\n",
       "      <td>1</td>\n",
       "    </tr>\n",
       "  </tbody>\n",
       "</table>\n",
       "<p>398 rows × 8 columns</p>\n",
       "</div>"
      ],
      "text/plain": [
       "    Diagnosis  Imaginary_min  Imaginary_avg    Real_min    Real_avg  Gender  \\\n",
       "0        COPD    -325.390000    -314.750360 -473.730000 -469.263140       0   \n",
       "1        COPD    -323.000000    -317.436056 -476.120000 -471.897667       1   \n",
       "2        COPD    -327.780000    -317.399670 -473.730000 -468.856388       1   \n",
       "3        COPD    -325.390000    -316.155785 -478.520000 -472.869783       0   \n",
       "4        COPD    -327.780000    -318.677553 -507.230000 -469.024194       1   \n",
       "..        ...            ...            ...         ...         ...     ...   \n",
       "393  Infected    -323.476086    -314.540563 -476.598824 -470.682756       0   \n",
       "394  Infected    -323.477808    -314.542360 -476.599886 -470.685468       0   \n",
       "395  Infected    -323.477804    -314.542351 -476.599882 -470.685455       0   \n",
       "396  Infected    -323.475639    -314.539881 -476.598564 -470.681990       1   \n",
       "397  Infected    -323.477763    -314.542312 -476.599858 -470.685393       0   \n",
       "\n",
       "     Age  Smoking  \n",
       "0     72        2  \n",
       "1     73        3  \n",
       "2     76        2  \n",
       "3     65        2  \n",
       "4     60        2  \n",
       "..   ...      ...  \n",
       "393   49        2  \n",
       "394   37        1  \n",
       "395   29        1  \n",
       "396   51        1  \n",
       "397   40        1  \n",
       "\n",
       "[398 rows x 8 columns]"
      ]
     },
     "execution_count": 30,
     "metadata": {},
     "output_type": "execute_result"
    }
   ],
   "source": [
    "df"
   ]
  },
  {
   "cell_type": "code",
   "execution_count": 31,
   "metadata": {
    "scrolled": true
   },
   "outputs": [
    {
     "data": {
      "text/html": [
       "<div>\n",
       "<style scoped>\n",
       "    .dataframe tbody tr th:only-of-type {\n",
       "        vertical-align: middle;\n",
       "    }\n",
       "\n",
       "    .dataframe tbody tr th {\n",
       "        vertical-align: top;\n",
       "    }\n",
       "\n",
       "    .dataframe thead th {\n",
       "        text-align: right;\n",
       "    }\n",
       "</style>\n",
       "<table border=\"1\" class=\"dataframe\">\n",
       "  <thead>\n",
       "    <tr style=\"text-align: right;\">\n",
       "      <th></th>\n",
       "      <th>Imaginary_min</th>\n",
       "      <th>Imaginary_avg</th>\n",
       "      <th>Real_min</th>\n",
       "      <th>Real_avg</th>\n",
       "      <th>Gender</th>\n",
       "      <th>Age</th>\n",
       "      <th>Smoking</th>\n",
       "    </tr>\n",
       "  </thead>\n",
       "  <tbody>\n",
       "    <tr>\n",
       "      <th>count</th>\n",
       "      <td>398.000000</td>\n",
       "      <td>398.000000</td>\n",
       "      <td>398.000000</td>\n",
       "      <td>398.000000</td>\n",
       "      <td>398.000000</td>\n",
       "      <td>398.000000</td>\n",
       "      <td>398.000000</td>\n",
       "    </tr>\n",
       "    <tr>\n",
       "      <th>mean</th>\n",
       "      <td>-317.062913</td>\n",
       "      <td>-307.158406</td>\n",
       "      <td>-473.288761</td>\n",
       "      <td>-460.605167</td>\n",
       "      <td>0.396985</td>\n",
       "      <td>48.665829</td>\n",
       "      <td>1.726131</td>\n",
       "    </tr>\n",
       "    <tr>\n",
       "      <th>std</th>\n",
       "      <td>14.927422</td>\n",
       "      <td>13.921554</td>\n",
       "      <td>24.505117</td>\n",
       "      <td>23.028503</td>\n",
       "      <td>0.489889</td>\n",
       "      <td>18.535999</td>\n",
       "      <td>0.742974</td>\n",
       "    </tr>\n",
       "    <tr>\n",
       "      <th>min</th>\n",
       "      <td>-337.350000</td>\n",
       "      <td>-328.280985</td>\n",
       "      <td>-626.860000</td>\n",
       "      <td>-473.928698</td>\n",
       "      <td>0.000000</td>\n",
       "      <td>17.000000</td>\n",
       "      <td>1.000000</td>\n",
       "    </tr>\n",
       "    <tr>\n",
       "      <th>25%</th>\n",
       "      <td>-323.474579</td>\n",
       "      <td>-314.539262</td>\n",
       "      <td>-476.120000</td>\n",
       "      <td>-469.466431</td>\n",
       "      <td>0.000000</td>\n",
       "      <td>31.000000</td>\n",
       "      <td>1.000000</td>\n",
       "    </tr>\n",
       "    <tr>\n",
       "      <th>50%</th>\n",
       "      <td>-321.802567</td>\n",
       "      <td>-312.022056</td>\n",
       "      <td>-473.730000</td>\n",
       "      <td>-465.369398</td>\n",
       "      <td>0.000000</td>\n",
       "      <td>49.000000</td>\n",
       "      <td>2.000000</td>\n",
       "    </tr>\n",
       "    <tr>\n",
       "      <th>75%</th>\n",
       "      <td>-313.459250</td>\n",
       "      <td>-302.805171</td>\n",
       "      <td>-471.749000</td>\n",
       "      <td>-451.847266</td>\n",
       "      <td>1.000000</td>\n",
       "      <td>64.000000</td>\n",
       "      <td>2.000000</td>\n",
       "    </tr>\n",
       "    <tr>\n",
       "      <th>max</th>\n",
       "      <td>-225.000000</td>\n",
       "      <td>-225.000000</td>\n",
       "      <td>-44.000000</td>\n",
       "      <td>-44.000000</td>\n",
       "      <td>1.000000</td>\n",
       "      <td>93.000000</td>\n",
       "      <td>3.000000</td>\n",
       "    </tr>\n",
       "  </tbody>\n",
       "</table>\n",
       "</div>"
      ],
      "text/plain": [
       "       Imaginary_min  Imaginary_avg    Real_min    Real_avg      Gender  \\\n",
       "count     398.000000     398.000000  398.000000  398.000000  398.000000   \n",
       "mean     -317.062913    -307.158406 -473.288761 -460.605167    0.396985   \n",
       "std        14.927422      13.921554   24.505117   23.028503    0.489889   \n",
       "min      -337.350000    -328.280985 -626.860000 -473.928698    0.000000   \n",
       "25%      -323.474579    -314.539262 -476.120000 -469.466431    0.000000   \n",
       "50%      -321.802567    -312.022056 -473.730000 -465.369398    0.000000   \n",
       "75%      -313.459250    -302.805171 -471.749000 -451.847266    1.000000   \n",
       "max      -225.000000    -225.000000  -44.000000  -44.000000    1.000000   \n",
       "\n",
       "              Age     Smoking  \n",
       "count  398.000000  398.000000  \n",
       "mean    48.665829    1.726131  \n",
       "std     18.535999    0.742974  \n",
       "min     17.000000    1.000000  \n",
       "25%     31.000000    1.000000  \n",
       "50%     49.000000    2.000000  \n",
       "75%     64.000000    2.000000  \n",
       "max     93.000000    3.000000  "
      ]
     },
     "execution_count": 31,
     "metadata": {},
     "output_type": "execute_result"
    }
   ],
   "source": [
    "df.describe()"
   ]
  },
  {
   "cell_type": "code",
   "execution_count": 32,
   "metadata": {
    "scrolled": true
   },
   "outputs": [
    {
     "data": {
      "text/html": [
       "<div>\n",
       "<style scoped>\n",
       "    .dataframe tbody tr th:only-of-type {\n",
       "        vertical-align: middle;\n",
       "    }\n",
       "\n",
       "    .dataframe tbody tr th {\n",
       "        vertical-align: top;\n",
       "    }\n",
       "\n",
       "    .dataframe thead th {\n",
       "        text-align: right;\n",
       "    }\n",
       "</style>\n",
       "<table border=\"1\" class=\"dataframe\">\n",
       "  <thead>\n",
       "    <tr style=\"text-align: right;\">\n",
       "      <th></th>\n",
       "      <th>Imaginary_min</th>\n",
       "      <th>Imaginary_avg</th>\n",
       "      <th>Real_min</th>\n",
       "      <th>Real_avg</th>\n",
       "      <th>Gender</th>\n",
       "      <th>Age</th>\n",
       "      <th>Smoking</th>\n",
       "    </tr>\n",
       "  </thead>\n",
       "  <tbody>\n",
       "    <tr>\n",
       "      <th>count</th>\n",
       "      <td>78.000000</td>\n",
       "      <td>78.000000</td>\n",
       "      <td>78.000000</td>\n",
       "      <td>78.000000</td>\n",
       "      <td>78.000000</td>\n",
       "      <td>78.000000</td>\n",
       "      <td>78.000000</td>\n",
       "    </tr>\n",
       "    <tr>\n",
       "      <th>mean</th>\n",
       "      <td>-312.061450</td>\n",
       "      <td>-302.117447</td>\n",
       "      <td>-472.606885</td>\n",
       "      <td>-459.936769</td>\n",
       "      <td>0.705128</td>\n",
       "      <td>70.794872</td>\n",
       "      <td>2.051282</td>\n",
       "    </tr>\n",
       "    <tr>\n",
       "      <th>std</th>\n",
       "      <td>23.151838</td>\n",
       "      <td>20.896295</td>\n",
       "      <td>11.661023</td>\n",
       "      <td>10.816259</td>\n",
       "      <td>0.458936</td>\n",
       "      <td>9.239046</td>\n",
       "      <td>0.452911</td>\n",
       "    </tr>\n",
       "    <tr>\n",
       "      <th>min</th>\n",
       "      <td>-337.350000</td>\n",
       "      <td>-327.895087</td>\n",
       "      <td>-521.580000</td>\n",
       "      <td>-472.869783</td>\n",
       "      <td>0.000000</td>\n",
       "      <td>35.000000</td>\n",
       "      <td>1.000000</td>\n",
       "    </tr>\n",
       "    <tr>\n",
       "      <th>25%</th>\n",
       "      <td>-323.000000</td>\n",
       "      <td>-314.510607</td>\n",
       "      <td>-473.730000</td>\n",
       "      <td>-466.429418</td>\n",
       "      <td>0.000000</td>\n",
       "      <td>66.250000</td>\n",
       "      <td>2.000000</td>\n",
       "    </tr>\n",
       "    <tr>\n",
       "      <th>50%</th>\n",
       "      <td>-312.062050</td>\n",
       "      <td>-302.117973</td>\n",
       "      <td>-472.607178</td>\n",
       "      <td>-459.937047</td>\n",
       "      <td>1.000000</td>\n",
       "      <td>72.000000</td>\n",
       "      <td>2.000000</td>\n",
       "    </tr>\n",
       "    <tr>\n",
       "      <th>75%</th>\n",
       "      <td>-312.062040</td>\n",
       "      <td>-302.117959</td>\n",
       "      <td>-472.607106</td>\n",
       "      <td>-459.937041</td>\n",
       "      <td>1.000000</td>\n",
       "      <td>76.000000</td>\n",
       "      <td>2.000000</td>\n",
       "    </tr>\n",
       "    <tr>\n",
       "      <th>max</th>\n",
       "      <td>-225.000000</td>\n",
       "      <td>-225.000000</td>\n",
       "      <td>-441.000000</td>\n",
       "      <td>-414.675667</td>\n",
       "      <td>1.000000</td>\n",
       "      <td>93.000000</td>\n",
       "      <td>3.000000</td>\n",
       "    </tr>\n",
       "  </tbody>\n",
       "</table>\n",
       "</div>"
      ],
      "text/plain": [
       "       Imaginary_min  Imaginary_avg    Real_min    Real_avg     Gender  \\\n",
       "count      78.000000      78.000000   78.000000   78.000000  78.000000   \n",
       "mean     -312.061450    -302.117447 -472.606885 -459.936769   0.705128   \n",
       "std        23.151838      20.896295   11.661023   10.816259   0.458936   \n",
       "min      -337.350000    -327.895087 -521.580000 -472.869783   0.000000   \n",
       "25%      -323.000000    -314.510607 -473.730000 -466.429418   0.000000   \n",
       "50%      -312.062050    -302.117973 -472.607178 -459.937047   1.000000   \n",
       "75%      -312.062040    -302.117959 -472.607106 -459.937041   1.000000   \n",
       "max      -225.000000    -225.000000 -441.000000 -414.675667   1.000000   \n",
       "\n",
       "             Age    Smoking  \n",
       "count  78.000000  78.000000  \n",
       "mean   70.794872   2.051282  \n",
       "std     9.239046   0.452911  \n",
       "min    35.000000   1.000000  \n",
       "25%    66.250000   2.000000  \n",
       "50%    72.000000   2.000000  \n",
       "75%    76.000000   2.000000  \n",
       "max    93.000000   3.000000  "
      ]
     },
     "execution_count": 32,
     "metadata": {},
     "output_type": "execute_result"
    }
   ],
   "source": [
    "df[df['Diagnosis'] == 'COPD'].describe()"
   ]
  },
  {
   "cell_type": "code",
   "execution_count": 33,
   "metadata": {
    "scrolled": true
   },
   "outputs": [
    {
     "data": {
      "text/html": [
       "<div>\n",
       "<style scoped>\n",
       "    .dataframe tbody tr th:only-of-type {\n",
       "        vertical-align: middle;\n",
       "    }\n",
       "\n",
       "    .dataframe tbody tr th {\n",
       "        vertical-align: top;\n",
       "    }\n",
       "\n",
       "    .dataframe thead th {\n",
       "        text-align: right;\n",
       "    }\n",
       "</style>\n",
       "<table border=\"1\" class=\"dataframe\">\n",
       "  <thead>\n",
       "    <tr style=\"text-align: right;\">\n",
       "      <th></th>\n",
       "      <th>Imaginary_min</th>\n",
       "      <th>Imaginary_avg</th>\n",
       "      <th>Real_min</th>\n",
       "      <th>Real_avg</th>\n",
       "      <th>Gender</th>\n",
       "      <th>Age</th>\n",
       "      <th>Smoking</th>\n",
       "    </tr>\n",
       "  </thead>\n",
       "  <tbody>\n",
       "    <tr>\n",
       "      <th>count</th>\n",
       "      <td>160.000000</td>\n",
       "      <td>160.000000</td>\n",
       "      <td>160.000000</td>\n",
       "      <td>160.000000</td>\n",
       "      <td>160.000000</td>\n",
       "      <td>160.000000</td>\n",
       "      <td>160.000000</td>\n",
       "    </tr>\n",
       "    <tr>\n",
       "      <th>mean</th>\n",
       "      <td>-313.459250</td>\n",
       "      <td>-302.805171</td>\n",
       "      <td>-471.749000</td>\n",
       "      <td>-451.847266</td>\n",
       "      <td>0.350000</td>\n",
       "      <td>39.487500</td>\n",
       "      <td>1.618750</td>\n",
       "    </tr>\n",
       "    <tr>\n",
       "      <th>std</th>\n",
       "      <td>15.190911</td>\n",
       "      <td>13.756308</td>\n",
       "      <td>37.743965</td>\n",
       "      <td>33.230108</td>\n",
       "      <td>0.478467</td>\n",
       "      <td>13.269337</td>\n",
       "      <td>0.799936</td>\n",
       "    </tr>\n",
       "    <tr>\n",
       "      <th>min</th>\n",
       "      <td>-337.350000</td>\n",
       "      <td>-328.280985</td>\n",
       "      <td>-626.860000</td>\n",
       "      <td>-473.928698</td>\n",
       "      <td>0.000000</td>\n",
       "      <td>17.000000</td>\n",
       "      <td>1.000000</td>\n",
       "    </tr>\n",
       "    <tr>\n",
       "      <th>25%</th>\n",
       "      <td>-313.459250</td>\n",
       "      <td>-302.805171</td>\n",
       "      <td>-471.749000</td>\n",
       "      <td>-451.847266</td>\n",
       "      <td>0.000000</td>\n",
       "      <td>28.000000</td>\n",
       "      <td>1.000000</td>\n",
       "    </tr>\n",
       "    <tr>\n",
       "      <th>50%</th>\n",
       "      <td>-313.459250</td>\n",
       "      <td>-302.805171</td>\n",
       "      <td>-471.749000</td>\n",
       "      <td>-451.847266</td>\n",
       "      <td>0.000000</td>\n",
       "      <td>39.000000</td>\n",
       "      <td>1.000000</td>\n",
       "    </tr>\n",
       "    <tr>\n",
       "      <th>75%</th>\n",
       "      <td>-313.459250</td>\n",
       "      <td>-302.805171</td>\n",
       "      <td>-471.749000</td>\n",
       "      <td>-451.847266</td>\n",
       "      <td>1.000000</td>\n",
       "      <td>51.000000</td>\n",
       "      <td>2.000000</td>\n",
       "    </tr>\n",
       "    <tr>\n",
       "      <th>max</th>\n",
       "      <td>-234.000000</td>\n",
       "      <td>-234.000000</td>\n",
       "      <td>-44.000000</td>\n",
       "      <td>-44.000000</td>\n",
       "      <td>1.000000</td>\n",
       "      <td>75.000000</td>\n",
       "      <td>3.000000</td>\n",
       "    </tr>\n",
       "  </tbody>\n",
       "</table>\n",
       "</div>"
      ],
      "text/plain": [
       "       Imaginary_min  Imaginary_avg    Real_min    Real_avg      Gender  \\\n",
       "count     160.000000     160.000000  160.000000  160.000000  160.000000   \n",
       "mean     -313.459250    -302.805171 -471.749000 -451.847266    0.350000   \n",
       "std        15.190911      13.756308   37.743965   33.230108    0.478467   \n",
       "min      -337.350000    -328.280985 -626.860000 -473.928698    0.000000   \n",
       "25%      -313.459250    -302.805171 -471.749000 -451.847266    0.000000   \n",
       "50%      -313.459250    -302.805171 -471.749000 -451.847266    0.000000   \n",
       "75%      -313.459250    -302.805171 -471.749000 -451.847266    1.000000   \n",
       "max      -234.000000    -234.000000  -44.000000  -44.000000    1.000000   \n",
       "\n",
       "              Age     Smoking  \n",
       "count  160.000000  160.000000  \n",
       "mean    39.487500    1.618750  \n",
       "std     13.269337    0.799936  \n",
       "min     17.000000    1.000000  \n",
       "25%     28.000000    1.000000  \n",
       "50%     39.000000    1.000000  \n",
       "75%     51.000000    2.000000  \n",
       "max     75.000000    3.000000  "
      ]
     },
     "execution_count": 33,
     "metadata": {},
     "output_type": "execute_result"
    }
   ],
   "source": [
    "df[df['Diagnosis'] == 'HC'].describe()"
   ]
  },
  {
   "cell_type": "code",
   "execution_count": 34,
   "metadata": {
    "scrolled": true
   },
   "outputs": [
    {
     "data": {
      "text/html": [
       "<div>\n",
       "<style scoped>\n",
       "    .dataframe tbody tr th:only-of-type {\n",
       "        vertical-align: middle;\n",
       "    }\n",
       "\n",
       "    .dataframe tbody tr th {\n",
       "        vertical-align: top;\n",
       "    }\n",
       "\n",
       "    .dataframe thead th {\n",
       "        text-align: right;\n",
       "    }\n",
       "</style>\n",
       "<table border=\"1\" class=\"dataframe\">\n",
       "  <thead>\n",
       "    <tr style=\"text-align: right;\">\n",
       "      <th></th>\n",
       "      <th>Imaginary_min</th>\n",
       "      <th>Imaginary_avg</th>\n",
       "      <th>Real_min</th>\n",
       "      <th>Real_avg</th>\n",
       "      <th>Gender</th>\n",
       "      <th>Age</th>\n",
       "      <th>Smoking</th>\n",
       "    </tr>\n",
       "  </thead>\n",
       "  <tbody>\n",
       "    <tr>\n",
       "      <th>count</th>\n",
       "      <td>80.000000</td>\n",
       "      <td>80.000000</td>\n",
       "      <td>80.000000</td>\n",
       "      <td>80.000000</td>\n",
       "      <td>80.000000</td>\n",
       "      <td>80.000000</td>\n",
       "      <td>80.000000</td>\n",
       "    </tr>\n",
       "    <tr>\n",
       "      <th>mean</th>\n",
       "      <td>-322.999396</td>\n",
       "      <td>-313.716586</td>\n",
       "      <td>-473.731463</td>\n",
       "      <td>-468.769662</td>\n",
       "      <td>0.312500</td>\n",
       "      <td>55.375000</td>\n",
       "      <td>1.662500</td>\n",
       "    </tr>\n",
       "    <tr>\n",
       "      <th>std</th>\n",
       "      <td>1.140829</td>\n",
       "      <td>0.913422</td>\n",
       "      <td>1.007320</td>\n",
       "      <td>0.923976</td>\n",
       "      <td>0.466437</td>\n",
       "      <td>17.864026</td>\n",
       "      <td>0.673997</td>\n",
       "    </tr>\n",
       "    <tr>\n",
       "      <th>min</th>\n",
       "      <td>-327.780000</td>\n",
       "      <td>-318.446700</td>\n",
       "      <td>-478.520000</td>\n",
       "      <td>-473.180280</td>\n",
       "      <td>0.000000</td>\n",
       "      <td>17.000000</td>\n",
       "      <td>1.000000</td>\n",
       "    </tr>\n",
       "    <tr>\n",
       "      <th>25%</th>\n",
       "      <td>-322.999679</td>\n",
       "      <td>-313.716810</td>\n",
       "      <td>-473.731704</td>\n",
       "      <td>-468.769914</td>\n",
       "      <td>0.000000</td>\n",
       "      <td>45.500000</td>\n",
       "      <td>1.000000</td>\n",
       "    </tr>\n",
       "    <tr>\n",
       "      <th>50%</th>\n",
       "      <td>-322.999481</td>\n",
       "      <td>-313.716656</td>\n",
       "      <td>-473.731534</td>\n",
       "      <td>-468.769750</td>\n",
       "      <td>0.000000</td>\n",
       "      <td>57.000000</td>\n",
       "      <td>2.000000</td>\n",
       "    </tr>\n",
       "    <tr>\n",
       "      <th>75%</th>\n",
       "      <td>-322.999138</td>\n",
       "      <td>-313.716340</td>\n",
       "      <td>-473.731177</td>\n",
       "      <td>-468.769464</td>\n",
       "      <td>1.000000</td>\n",
       "      <td>67.250000</td>\n",
       "      <td>2.000000</td>\n",
       "    </tr>\n",
       "    <tr>\n",
       "      <th>max</th>\n",
       "      <td>-320.610000</td>\n",
       "      <td>-311.658041</td>\n",
       "      <td>-468.950000</td>\n",
       "      <td>-464.140266</td>\n",
       "      <td>1.000000</td>\n",
       "      <td>88.000000</td>\n",
       "      <td>3.000000</td>\n",
       "    </tr>\n",
       "  </tbody>\n",
       "</table>\n",
       "</div>"
      ],
      "text/plain": [
       "       Imaginary_min  Imaginary_avg    Real_min    Real_avg     Gender  \\\n",
       "count      80.000000      80.000000   80.000000   80.000000  80.000000   \n",
       "mean     -322.999396    -313.716586 -473.731463 -468.769662   0.312500   \n",
       "std         1.140829       0.913422    1.007320    0.923976   0.466437   \n",
       "min      -327.780000    -318.446700 -478.520000 -473.180280   0.000000   \n",
       "25%      -322.999679    -313.716810 -473.731704 -468.769914   0.000000   \n",
       "50%      -322.999481    -313.716656 -473.731534 -468.769750   0.000000   \n",
       "75%      -322.999138    -313.716340 -473.731177 -468.769464   1.000000   \n",
       "max      -320.610000    -311.658041 -468.950000 -464.140266   1.000000   \n",
       "\n",
       "             Age    Smoking  \n",
       "count  80.000000  80.000000  \n",
       "mean   55.375000   1.662500  \n",
       "std    17.864026   0.673997  \n",
       "min    17.000000   1.000000  \n",
       "25%    45.500000   1.000000  \n",
       "50%    57.000000   2.000000  \n",
       "75%    67.250000   2.000000  \n",
       "max    88.000000   3.000000  "
      ]
     },
     "execution_count": 34,
     "metadata": {},
     "output_type": "execute_result"
    }
   ],
   "source": [
    "df[df['Diagnosis'] == 'Asthma'].describe()"
   ]
  },
  {
   "cell_type": "code",
   "execution_count": 35,
   "metadata": {
    "scrolled": true
   },
   "outputs": [
    {
     "data": {
      "text/html": [
       "<div>\n",
       "<style scoped>\n",
       "    .dataframe tbody tr th:only-of-type {\n",
       "        vertical-align: middle;\n",
       "    }\n",
       "\n",
       "    .dataframe tbody tr th {\n",
       "        vertical-align: top;\n",
       "    }\n",
       "\n",
       "    .dataframe thead th {\n",
       "        text-align: right;\n",
       "    }\n",
       "</style>\n",
       "<table border=\"1\" class=\"dataframe\">\n",
       "  <thead>\n",
       "    <tr style=\"text-align: right;\">\n",
       "      <th></th>\n",
       "      <th>Imaginary_min</th>\n",
       "      <th>Imaginary_avg</th>\n",
       "      <th>Real_min</th>\n",
       "      <th>Real_avg</th>\n",
       "      <th>Gender</th>\n",
       "      <th>Age</th>\n",
       "      <th>Smoking</th>\n",
       "    </tr>\n",
       "  </thead>\n",
       "  <tbody>\n",
       "    <tr>\n",
       "      <th>count</th>\n",
       "      <td>80.000000</td>\n",
       "      <td>80.000000</td>\n",
       "      <td>80.000000</td>\n",
       "      <td>80.000000</td>\n",
       "      <td>80.000000</td>\n",
       "      <td>80.000000</td>\n",
       "      <td>80.000000</td>\n",
       "    </tr>\n",
       "    <tr>\n",
       "      <th>mean</th>\n",
       "      <td>-323.210184</td>\n",
       "      <td>-314.221632</td>\n",
       "      <td>-476.590411</td>\n",
       "      <td>-470.608163</td>\n",
       "      <td>0.275000</td>\n",
       "      <td>38.737500</td>\n",
       "      <td>1.687500</td>\n",
       "    </tr>\n",
       "    <tr>\n",
       "      <th>std</th>\n",
       "      <td>2.576477</td>\n",
       "      <td>3.017801</td>\n",
       "      <td>0.640079</td>\n",
       "      <td>1.740750</td>\n",
       "      <td>0.449331</td>\n",
       "      <td>13.053681</td>\n",
       "      <td>0.835809</td>\n",
       "    </tr>\n",
       "    <tr>\n",
       "      <th>min</th>\n",
       "      <td>-327.780000</td>\n",
       "      <td>-319.555285</td>\n",
       "      <td>-480.910000</td>\n",
       "      <td>-473.088617</td>\n",
       "      <td>0.000000</td>\n",
       "      <td>17.000000</td>\n",
       "      <td>1.000000</td>\n",
       "    </tr>\n",
       "    <tr>\n",
       "      <th>25%</th>\n",
       "      <td>-323.477776</td>\n",
       "      <td>-314.542323</td>\n",
       "      <td>-476.599860</td>\n",
       "      <td>-470.685459</td>\n",
       "      <td>0.000000</td>\n",
       "      <td>28.000000</td>\n",
       "      <td>1.000000</td>\n",
       "    </tr>\n",
       "    <tr>\n",
       "      <th>50%</th>\n",
       "      <td>-323.477461</td>\n",
       "      <td>-314.542008</td>\n",
       "      <td>-476.599655</td>\n",
       "      <td>-470.685155</td>\n",
       "      <td>0.000000</td>\n",
       "      <td>38.000000</td>\n",
       "      <td>1.000000</td>\n",
       "    </tr>\n",
       "    <tr>\n",
       "      <th>75%</th>\n",
       "      <td>-323.474014</td>\n",
       "      <td>-314.538439</td>\n",
       "      <td>-476.597557</td>\n",
       "      <td>-470.682594</td>\n",
       "      <td>1.000000</td>\n",
       "      <td>49.250000</td>\n",
       "      <td>2.000000</td>\n",
       "    </tr>\n",
       "    <tr>\n",
       "      <th>max</th>\n",
       "      <td>-302.477643</td>\n",
       "      <td>-289.389378</td>\n",
       "      <td>-473.730000</td>\n",
       "      <td>-457.046464</td>\n",
       "      <td>1.000000</td>\n",
       "      <td>75.000000</td>\n",
       "      <td>3.000000</td>\n",
       "    </tr>\n",
       "  </tbody>\n",
       "</table>\n",
       "</div>"
      ],
      "text/plain": [
       "       Imaginary_min  Imaginary_avg    Real_min    Real_avg     Gender  \\\n",
       "count      80.000000      80.000000   80.000000   80.000000  80.000000   \n",
       "mean     -323.210184    -314.221632 -476.590411 -470.608163   0.275000   \n",
       "std         2.576477       3.017801    0.640079    1.740750   0.449331   \n",
       "min      -327.780000    -319.555285 -480.910000 -473.088617   0.000000   \n",
       "25%      -323.477776    -314.542323 -476.599860 -470.685459   0.000000   \n",
       "50%      -323.477461    -314.542008 -476.599655 -470.685155   0.000000   \n",
       "75%      -323.474014    -314.538439 -476.597557 -470.682594   1.000000   \n",
       "max      -302.477643    -289.389378 -473.730000 -457.046464   1.000000   \n",
       "\n",
       "             Age    Smoking  \n",
       "count  80.000000  80.000000  \n",
       "mean   38.737500   1.687500  \n",
       "std    13.053681   0.835809  \n",
       "min    17.000000   1.000000  \n",
       "25%    28.000000   1.000000  \n",
       "50%    38.000000   1.000000  \n",
       "75%    49.250000   2.000000  \n",
       "max    75.000000   3.000000  "
      ]
     },
     "execution_count": 35,
     "metadata": {},
     "output_type": "execute_result"
    }
   ],
   "source": [
    "df[df['Diagnosis'] == 'Infected'].describe()"
   ]
  },
  {
   "cell_type": "code",
   "execution_count": 36,
   "metadata": {
    "scrolled": false
   },
   "outputs": [
    {
     "data": {
      "text/plain": [
       "Diagnosis        0\n",
       "Imaginary_min    0\n",
       "Imaginary_avg    0\n",
       "Real_min         0\n",
       "Real_avg         0\n",
       "Gender           0\n",
       "Age              0\n",
       "Smoking          0\n",
       "dtype: int64"
      ]
     },
     "execution_count": 36,
     "metadata": {},
     "output_type": "execute_result"
    }
   ],
   "source": [
    "df.isnull().sum()"
   ]
  },
  {
   "cell_type": "code",
   "execution_count": 37,
   "metadata": {},
   "outputs": [
    {
     "data": {
      "text/plain": [
       "<AxesSubplot:>"
      ]
     },
     "execution_count": 37,
     "metadata": {},
     "output_type": "execute_result"
    },
    {
     "data": {
      "image/png": "[encoded data removed]",
      "text/plain": [
       "<Figure size 1008x1008 with 2 Axes>"
      ]
     },
     "metadata": {
      "needs_background": "light"
     },
     "output_type": "display_data"
    }
   ],
   "source": [
    "plt.figure(figsize=(14,14))\n",
    "sns.heatmap(df.corr(),annot=True)"
   ]
  },
  {
   "cell_type": "markdown",
   "metadata": {},
   "source": [
    "# Imputation: Imputation is the method in which the missing value of a certain variable is replaced by the mean of the available cases."
   ]
  },
  {
   "cell_type": "code",
   "execution_count": 38,
   "metadata": {},
   "outputs": [
    {
     "data": {
      "text/plain": [
       "Diagnosis        0\n",
       "Imaginary_min    0\n",
       "Imaginary_avg    0\n",
       "Real_min         0\n",
       "Real_avg         0\n",
       "Gender           0\n",
       "Age              0\n",
       "Smoking          0\n",
       "dtype: int64"
      ]
     },
     "execution_count": 38,
     "metadata": {},
     "output_type": "execute_result"
    }
   ],
   "source": [
    "df.isnull().sum()"
   ]
  },
  {
   "cell_type": "code",
   "execution_count": 39,
   "metadata": {
    "scrolled": true
   },
   "outputs": [
    {
     "data": {
      "text/plain": [
       "HC          160\n",
       "Asthma       80\n",
       "Infected     80\n",
       "COPD         78\n",
       "Name: Diagnosis, dtype: int64"
      ]
     },
     "execution_count": 39,
     "metadata": {},
     "output_type": "execute_result"
    }
   ],
   "source": [
    "df['Diagnosis'].value_counts()"
   ]
  },
  {
   "cell_type": "code",
   "execution_count": 40,
   "metadata": {
    "scrolled": true
   },
   "outputs": [
    {
     "data": {
      "image/png": "[encoded data removed]",
      "text/plain": [
       "<Figure size 432x288 with 1 Axes>"
      ]
     },
     "metadata": {},
     "output_type": "display_data"
    }
   ],
   "source": [
    "fig = plt.figure()\n",
    "fig.patch.set_facecolor('grey')\n",
    "plt.pie(df['Diagnosis'].value_counts(),colors=['red','black','blue','green'],labels=['HC','Asthama','Infected','COPD'])\n",
    "plt.show()"
   ]
  },
  {
   "cell_type": "code",
   "execution_count": 41,
   "metadata": {},
   "outputs": [],
   "source": [
    "column_names = ['Imaginary_min','Imaginary_avg','Real_min','Real_avg','Gender','Age','Smoking','Diagnosis']\n",
    "\n",
    "training_data = df.reindex(columns=column_names)\n"
   ]
  },
  {
   "cell_type": "code",
   "execution_count": 42,
   "metadata": {
    "scrolled": false
   },
   "outputs": [
    {
     "data": {
      "text/html": [
       "<div>\n",
       "<style scoped>\n",
       "    .dataframe tbody tr th:only-of-type {\n",
       "        vertical-align: middle;\n",
       "    }\n",
       "\n",
       "    .dataframe tbody tr th {\n",
       "        vertical-align: top;\n",
       "    }\n",
       "\n",
       "    .dataframe thead th {\n",
       "        text-align: right;\n",
       "    }\n",
       "</style>\n",
       "<table border=\"1\" class=\"dataframe\">\n",
       "  <thead>\n",
       "    <tr style=\"text-align: right;\">\n",
       "      <th></th>\n",
       "      <th>Imaginary_min</th>\n",
       "      <th>Imaginary_avg</th>\n",
       "      <th>Real_min</th>\n",
       "      <th>Real_avg</th>\n",
       "      <th>Gender</th>\n",
       "      <th>Age</th>\n",
       "      <th>Smoking</th>\n",
       "      <th>Diagnosis</th>\n",
       "    </tr>\n",
       "  </thead>\n",
       "  <tbody>\n",
       "    <tr>\n",
       "      <th>0</th>\n",
       "      <td>-325.390000</td>\n",
       "      <td>-314.750360</td>\n",
       "      <td>-473.730000</td>\n",
       "      <td>-469.263140</td>\n",
       "      <td>0</td>\n",
       "      <td>72</td>\n",
       "      <td>2</td>\n",
       "      <td>COPD</td>\n",
       "    </tr>\n",
       "    <tr>\n",
       "      <th>1</th>\n",
       "      <td>-323.000000</td>\n",
       "      <td>-317.436056</td>\n",
       "      <td>-476.120000</td>\n",
       "      <td>-471.897667</td>\n",
       "      <td>1</td>\n",
       "      <td>73</td>\n",
       "      <td>3</td>\n",
       "      <td>COPD</td>\n",
       "    </tr>\n",
       "    <tr>\n",
       "      <th>2</th>\n",
       "      <td>-327.780000</td>\n",
       "      <td>-317.399670</td>\n",
       "      <td>-473.730000</td>\n",
       "      <td>-468.856388</td>\n",
       "      <td>1</td>\n",
       "      <td>76</td>\n",
       "      <td>2</td>\n",
       "      <td>COPD</td>\n",
       "    </tr>\n",
       "    <tr>\n",
       "      <th>3</th>\n",
       "      <td>-325.390000</td>\n",
       "      <td>-316.155785</td>\n",
       "      <td>-478.520000</td>\n",
       "      <td>-472.869783</td>\n",
       "      <td>0</td>\n",
       "      <td>65</td>\n",
       "      <td>2</td>\n",
       "      <td>COPD</td>\n",
       "    </tr>\n",
       "    <tr>\n",
       "      <th>4</th>\n",
       "      <td>-327.780000</td>\n",
       "      <td>-318.677553</td>\n",
       "      <td>-507.230000</td>\n",
       "      <td>-469.024194</td>\n",
       "      <td>1</td>\n",
       "      <td>60</td>\n",
       "      <td>2</td>\n",
       "      <td>COPD</td>\n",
       "    </tr>\n",
       "    <tr>\n",
       "      <th>...</th>\n",
       "      <td>...</td>\n",
       "      <td>...</td>\n",
       "      <td>...</td>\n",
       "      <td>...</td>\n",
       "      <td>...</td>\n",
       "      <td>...</td>\n",
       "      <td>...</td>\n",
       "      <td>...</td>\n",
       "    </tr>\n",
       "    <tr>\n",
       "      <th>393</th>\n",
       "      <td>-323.476086</td>\n",
       "      <td>-314.540563</td>\n",
       "      <td>-476.598824</td>\n",
       "      <td>-470.682756</td>\n",
       "      <td>0</td>\n",
       "      <td>49</td>\n",
       "      <td>2</td>\n",
       "      <td>Infected</td>\n",
       "    </tr>\n",
       "    <tr>\n",
       "      <th>394</th>\n",
       "      <td>-323.477808</td>\n",
       "      <td>-314.542360</td>\n",
       "      <td>-476.599886</td>\n",
       "      <td>-470.685468</td>\n",
       "      <td>0</td>\n",
       "      <td>37</td>\n",
       "      <td>1</td>\n",
       "      <td>Infected</td>\n",
       "    </tr>\n",
       "    <tr>\n",
       "      <th>395</th>\n",
       "      <td>-323.477804</td>\n",
       "      <td>-314.542351</td>\n",
       "      <td>-476.599882</td>\n",
       "      <td>-470.685455</td>\n",
       "      <td>0</td>\n",
       "      <td>29</td>\n",
       "      <td>1</td>\n",
       "      <td>Infected</td>\n",
       "    </tr>\n",
       "    <tr>\n",
       "      <th>396</th>\n",
       "      <td>-323.475639</td>\n",
       "      <td>-314.539881</td>\n",
       "      <td>-476.598564</td>\n",
       "      <td>-470.681990</td>\n",
       "      <td>1</td>\n",
       "      <td>51</td>\n",
       "      <td>1</td>\n",
       "      <td>Infected</td>\n",
       "    </tr>\n",
       "    <tr>\n",
       "      <th>397</th>\n",
       "      <td>-323.477763</td>\n",
       "      <td>-314.542312</td>\n",
       "      <td>-476.599858</td>\n",
       "      <td>-470.685393</td>\n",
       "      <td>0</td>\n",
       "      <td>40</td>\n",
       "      <td>1</td>\n",
       "      <td>Infected</td>\n",
       "    </tr>\n",
       "  </tbody>\n",
       "</table>\n",
       "<p>398 rows × 8 columns</p>\n",
       "</div>"
      ],
      "text/plain": [
       "     Imaginary_min  Imaginary_avg    Real_min    Real_avg  Gender  Age  \\\n",
       "0      -325.390000    -314.750360 -473.730000 -469.263140       0   72   \n",
       "1      -323.000000    -317.436056 -476.120000 -471.897667       1   73   \n",
       "2      -327.780000    -317.399670 -473.730000 -468.856388       1   76   \n",
       "3      -325.390000    -316.155785 -478.520000 -472.869783       0   65   \n",
       "4      -327.780000    -318.677553 -507.230000 -469.024194       1   60   \n",
       "..             ...            ...         ...         ...     ...  ...   \n",
       "393    -323.476086    -314.540563 -476.598824 -470.682756       0   49   \n",
       "394    -323.477808    -314.542360 -476.599886 -470.685468       0   37   \n",
       "395    -323.477804    -314.542351 -476.599882 -470.685455       0   29   \n",
       "396    -323.475639    -314.539881 -476.598564 -470.681990       1   51   \n",
       "397    -323.477763    -314.542312 -476.599858 -470.685393       0   40   \n",
       "\n",
       "     Smoking Diagnosis  \n",
       "0          2      COPD  \n",
       "1          3      COPD  \n",
       "2          2      COPD  \n",
       "3          2      COPD  \n",
       "4          2      COPD  \n",
       "..       ...       ...  \n",
       "393        2  Infected  \n",
       "394        1  Infected  \n",
       "395        1  Infected  \n",
       "396        1  Infected  \n",
       "397        1  Infected  \n",
       "\n",
       "[398 rows x 8 columns]"
      ]
     },
     "execution_count": 42,
     "metadata": {},
     "output_type": "execute_result"
    }
   ],
   "source": [
    "training_data"
   ]
  },
  {
   "cell_type": "code",
   "execution_count": 43,
   "metadata": {
    "scrolled": true
   },
   "outputs": [
    {
     "data": {
      "text/plain": [
       "<AxesSubplot:xlabel='Gender', ylabel='count'>"
      ]
     },
     "execution_count": 43,
     "metadata": {},
     "output_type": "execute_result"
    },
    {
     "data": {
      "image/png": "[encoded data removed]",
      "text/plain": [
       "<Figure size 432x288 with 1 Axes>"
      ]
     },
     "metadata": {
      "needs_background": "light"
     },
     "output_type": "display_data"
    }
   ],
   "source": [
    "sns.countplot(x = \"Gender\",hue=\"Diagnosis\", data = df)"
   ]
  },
  {
   "cell_type": "code",
   "execution_count": 44,
   "metadata": {},
   "outputs": [
    {
     "data": {
      "text/html": [
       "<div>\n",
       "<style scoped>\n",
       "    .dataframe tbody tr th:only-of-type {\n",
       "        vertical-align: middle;\n",
       "    }\n",
       "\n",
       "    .dataframe tbody tr th {\n",
       "        vertical-align: top;\n",
       "    }\n",
       "\n",
       "    .dataframe thead th {\n",
       "        text-align: right;\n",
       "    }\n",
       "</style>\n",
       "<table border=\"1\" class=\"dataframe\">\n",
       "  <thead>\n",
       "    <tr style=\"text-align: right;\">\n",
       "      <th></th>\n",
       "      <th>Diagnosis</th>\n",
       "      <th>Imaginary_min</th>\n",
       "      <th>Imaginary_avg</th>\n",
       "      <th>Real_min</th>\n",
       "      <th>Real_avg</th>\n",
       "      <th>Gender</th>\n",
       "      <th>Age</th>\n",
       "      <th>Smoking</th>\n",
       "    </tr>\n",
       "  </thead>\n",
       "  <tbody>\n",
       "    <tr>\n",
       "      <th>0</th>\n",
       "      <td>COPD</td>\n",
       "      <td>-325.39</td>\n",
       "      <td>-314.750360</td>\n",
       "      <td>-473.73</td>\n",
       "      <td>-469.263140</td>\n",
       "      <td>0</td>\n",
       "      <td>72</td>\n",
       "      <td>2</td>\n",
       "    </tr>\n",
       "    <tr>\n",
       "      <th>1</th>\n",
       "      <td>COPD</td>\n",
       "      <td>-323.00</td>\n",
       "      <td>-317.436056</td>\n",
       "      <td>-476.12</td>\n",
       "      <td>-471.897667</td>\n",
       "      <td>1</td>\n",
       "      <td>73</td>\n",
       "      <td>3</td>\n",
       "    </tr>\n",
       "    <tr>\n",
       "      <th>2</th>\n",
       "      <td>COPD</td>\n",
       "      <td>-327.78</td>\n",
       "      <td>-317.399670</td>\n",
       "      <td>-473.73</td>\n",
       "      <td>-468.856388</td>\n",
       "      <td>1</td>\n",
       "      <td>76</td>\n",
       "      <td>2</td>\n",
       "    </tr>\n",
       "    <tr>\n",
       "      <th>3</th>\n",
       "      <td>COPD</td>\n",
       "      <td>-325.39</td>\n",
       "      <td>-316.155785</td>\n",
       "      <td>-478.52</td>\n",
       "      <td>-472.869783</td>\n",
       "      <td>0</td>\n",
       "      <td>65</td>\n",
       "      <td>2</td>\n",
       "    </tr>\n",
       "    <tr>\n",
       "      <th>4</th>\n",
       "      <td>COPD</td>\n",
       "      <td>-327.78</td>\n",
       "      <td>-318.677553</td>\n",
       "      <td>-507.23</td>\n",
       "      <td>-469.024194</td>\n",
       "      <td>1</td>\n",
       "      <td>60</td>\n",
       "      <td>2</td>\n",
       "    </tr>\n",
       "  </tbody>\n",
       "</table>\n",
       "</div>"
      ],
      "text/plain": [
       "  Diagnosis  Imaginary_min  Imaginary_avg  Real_min    Real_avg  Gender  Age  \\\n",
       "0      COPD        -325.39    -314.750360   -473.73 -469.263140       0   72   \n",
       "1      COPD        -323.00    -317.436056   -476.12 -471.897667       1   73   \n",
       "2      COPD        -327.78    -317.399670   -473.73 -468.856388       1   76   \n",
       "3      COPD        -325.39    -316.155785   -478.52 -472.869783       0   65   \n",
       "4      COPD        -327.78    -318.677553   -507.23 -469.024194       1   60   \n",
       "\n",
       "   Smoking  \n",
       "0        2  \n",
       "1        3  \n",
       "2        2  \n",
       "3        2  \n",
       "4        2  "
      ]
     },
     "execution_count": 44,
     "metadata": {},
     "output_type": "execute_result"
    }
   ],
   "source": [
    "df.head()"
   ]
  },
  {
   "cell_type": "code",
   "execution_count": 45,
   "metadata": {},
   "outputs": [],
   "source": [
    "outputs = training_data.iloc[: , -1]\n",
    "inputs = training_data.iloc[: , :-1]\n",
    "\n"
   ]
  },
  {
   "cell_type": "code",
   "execution_count": 46,
   "metadata": {},
   "outputs": [],
   "source": [
    "from sklearn.model_selection import train_test_split\n",
    "X_train,X_test,y_train,y_test = train_test_split(inputs,outputs,test_size=0.30,random_state=2)\n"
   ]
  },
  {
   "cell_type": "code",
   "execution_count": 47,
   "metadata": {},
   "outputs": [
    {
     "name": "stdout",
     "output_type": "stream",
     "text": [
      "(278, 7)\n",
      "(120, 7)\n",
      "(278,)\n",
      "(120,)\n"
     ]
    },
    {
     "data": {
      "text/html": [
       "<div>\n",
       "<style scoped>\n",
       "    .dataframe tbody tr th:only-of-type {\n",
       "        vertical-align: middle;\n",
       "    }\n",
       "\n",
       "    .dataframe tbody tr th {\n",
       "        vertical-align: top;\n",
       "    }\n",
       "\n",
       "    .dataframe thead th {\n",
       "        text-align: right;\n",
       "    }\n",
       "</style>\n",
       "<table border=\"1\" class=\"dataframe\">\n",
       "  <thead>\n",
       "    <tr style=\"text-align: right;\">\n",
       "      <th></th>\n",
       "      <th>Imaginary_min</th>\n",
       "      <th>Imaginary_avg</th>\n",
       "      <th>Real_min</th>\n",
       "      <th>Real_avg</th>\n",
       "      <th>Gender</th>\n",
       "      <th>Age</th>\n",
       "      <th>Smoking</th>\n",
       "    </tr>\n",
       "  </thead>\n",
       "  <tbody>\n",
       "    <tr>\n",
       "      <th>112</th>\n",
       "      <td>-325.390000</td>\n",
       "      <td>-317.351689</td>\n",
       "      <td>-471.340000</td>\n",
       "      <td>-467.391842</td>\n",
       "      <td>0</td>\n",
       "      <td>39</td>\n",
       "      <td>1</td>\n",
       "    </tr>\n",
       "    <tr>\n",
       "      <th>283</th>\n",
       "      <td>-322.998897</td>\n",
       "      <td>-313.716177</td>\n",
       "      <td>-473.731064</td>\n",
       "      <td>-468.769276</td>\n",
       "      <td>0</td>\n",
       "      <td>77</td>\n",
       "      <td>1</td>\n",
       "    </tr>\n",
       "    <tr>\n",
       "      <th>379</th>\n",
       "      <td>-323.477296</td>\n",
       "      <td>-314.541842</td>\n",
       "      <td>-476.599581</td>\n",
       "      <td>-470.684696</td>\n",
       "      <td>1</td>\n",
       "      <td>30</td>\n",
       "      <td>2</td>\n",
       "    </tr>\n",
       "    <tr>\n",
       "      <th>306</th>\n",
       "      <td>-322.997867</td>\n",
       "      <td>-313.715260</td>\n",
       "      <td>-473.730118</td>\n",
       "      <td>-468.768298</td>\n",
       "      <td>1</td>\n",
       "      <td>80</td>\n",
       "      <td>1</td>\n",
       "    </tr>\n",
       "    <tr>\n",
       "      <th>343</th>\n",
       "      <td>-323.476401</td>\n",
       "      <td>-314.540909</td>\n",
       "      <td>-476.599046</td>\n",
       "      <td>-470.683306</td>\n",
       "      <td>0</td>\n",
       "      <td>48</td>\n",
       "      <td>2</td>\n",
       "    </tr>\n",
       "    <tr>\n",
       "      <th>...</th>\n",
       "      <td>...</td>\n",
       "      <td>...</td>\n",
       "      <td>...</td>\n",
       "      <td>...</td>\n",
       "      <td>...</td>\n",
       "      <td>...</td>\n",
       "      <td>...</td>\n",
       "    </tr>\n",
       "    <tr>\n",
       "      <th>299</th>\n",
       "      <td>-322.999477</td>\n",
       "      <td>-313.716649</td>\n",
       "      <td>-473.731536</td>\n",
       "      <td>-468.769725</td>\n",
       "      <td>1</td>\n",
       "      <td>65</td>\n",
       "      <td>2</td>\n",
       "    </tr>\n",
       "    <tr>\n",
       "      <th>22</th>\n",
       "      <td>-312.062050</td>\n",
       "      <td>-302.117973</td>\n",
       "      <td>-472.607179</td>\n",
       "      <td>-459.937047</td>\n",
       "      <td>1</td>\n",
       "      <td>64</td>\n",
       "      <td>2</td>\n",
       "    </tr>\n",
       "    <tr>\n",
       "      <th>72</th>\n",
       "      <td>-312.062048</td>\n",
       "      <td>-302.117972</td>\n",
       "      <td>-472.607178</td>\n",
       "      <td>-459.937046</td>\n",
       "      <td>1</td>\n",
       "      <td>72</td>\n",
       "      <td>3</td>\n",
       "    </tr>\n",
       "    <tr>\n",
       "      <th>15</th>\n",
       "      <td>-312.062050</td>\n",
       "      <td>-302.117973</td>\n",
       "      <td>-472.607179</td>\n",
       "      <td>-459.937047</td>\n",
       "      <td>1</td>\n",
       "      <td>69</td>\n",
       "      <td>2</td>\n",
       "    </tr>\n",
       "    <tr>\n",
       "      <th>168</th>\n",
       "      <td>-313.459250</td>\n",
       "      <td>-302.805171</td>\n",
       "      <td>-471.749000</td>\n",
       "      <td>-451.847266</td>\n",
       "      <td>0</td>\n",
       "      <td>45</td>\n",
       "      <td>3</td>\n",
       "    </tr>\n",
       "  </tbody>\n",
       "</table>\n",
       "<p>278 rows × 7 columns</p>\n",
       "</div>"
      ],
      "text/plain": [
       "     Imaginary_min  Imaginary_avg    Real_min    Real_avg  Gender  Age  \\\n",
       "112    -325.390000    -317.351689 -471.340000 -467.391842       0   39   \n",
       "283    -322.998897    -313.716177 -473.731064 -468.769276       0   77   \n",
       "379    -323.477296    -314.541842 -476.599581 -470.684696       1   30   \n",
       "306    -322.997867    -313.715260 -473.730118 -468.768298       1   80   \n",
       "343    -323.476401    -314.540909 -476.599046 -470.683306       0   48   \n",
       "..             ...            ...         ...         ...     ...  ...   \n",
       "299    -322.999477    -313.716649 -473.731536 -468.769725       1   65   \n",
       "22     -312.062050    -302.117973 -472.607179 -459.937047       1   64   \n",
       "72     -312.062048    -302.117972 -472.607178 -459.937046       1   72   \n",
       "15     -312.062050    -302.117973 -472.607179 -459.937047       1   69   \n",
       "168    -313.459250    -302.805171 -471.749000 -451.847266       0   45   \n",
       "\n",
       "     Smoking  \n",
       "112        1  \n",
       "283        1  \n",
       "379        2  \n",
       "306        1  \n",
       "343        2  \n",
       "..       ...  \n",
       "299        2  \n",
       "22         2  \n",
       "72         3  \n",
       "15         2  \n",
       "168        3  \n",
       "\n",
       "[278 rows x 7 columns]"
      ]
     },
     "execution_count": 47,
     "metadata": {},
     "output_type": "execute_result"
    }
   ],
   "source": [
    "print(X_train.shape)\n",
    "print(X_test.shape)\n",
    "print(y_train.shape)\n",
    "print(y_test.shape)\n",
    "X_train"
   ]
  },
  {
   "cell_type": "code",
   "execution_count": 48,
   "metadata": {},
   "outputs": [
    {
     "data": {
      "text/plain": [
       "KNeighborsClassifier(metric='euclidean', n_neighbors=6)"
      ]
     },
     "execution_count": 48,
     "metadata": {},
     "output_type": "execute_result"
    }
   ],
   "source": [
    "from sklearn.neighbors import KNeighborsClassifier\n",
    "Knn=KNeighborsClassifier(n_neighbors=6,metric='euclidean')\n",
    "\n",
    "## apply the knn object on the dataset(training phase)\n",
    "Knn.fit(X_train, y_train)"
   ]
  },
  {
   "cell_type": "code",
   "execution_count": 49,
   "metadata": {
    "scrolled": false
   },
   "outputs": [
    {
     "data": {
      "text/plain": [
       "array(['Asthma', 'Asthma', 'Infected', 'Asthma', 'Infected', 'HC', 'COPD',\n",
       "       'Infected', 'Asthma', 'Infected', 'Asthma', 'HC', 'HC', 'Asthma',\n",
       "       'Infected', 'HC', 'COPD', 'Asthma', 'Asthma', 'COPD', 'Asthma',\n",
       "       'HC', 'HC', 'HC', 'HC', 'HC', 'Asthma', 'HC', 'HC', 'HC', 'COPD',\n",
       "       'HC', 'HC', 'Asthma', 'Infected', 'Asthma', 'Asthma', 'COPD', 'HC',\n",
       "       'COPD', 'Asthma', 'Asthma', 'Infected', 'COPD', 'COPD', 'HC',\n",
       "       'Infected', 'HC', 'HC', 'HC', 'HC', 'HC', 'Asthma', 'HC', 'HC',\n",
       "       'COPD', 'Infected', 'Infected', 'Infected', 'HC', 'HC', 'Infected',\n",
       "       'COPD', 'HC', 'Infected', 'HC', 'COPD', 'HC', 'HC', 'HC', 'Asthma',\n",
       "       'Asthma', 'HC', 'Infected', 'HC', 'Asthma', 'HC', 'Asthma', 'HC',\n",
       "       'Asthma', 'HC', 'Infected', 'Asthma', 'HC', 'Infected', 'COPD',\n",
       "       'HC', 'HC', 'Asthma', 'Asthma', 'HC', 'HC', 'HC', 'COPD', 'Asthma',\n",
       "       'COPD', 'HC', 'Infected', 'HC', 'Asthma', 'Asthma', 'Asthma',\n",
       "       'COPD', 'HC', 'Infected', 'Infected', 'HC', 'Asthma', 'Infected',\n",
       "       'COPD', 'Infected', 'HC', 'Infected', 'HC', 'HC', 'Infected', 'HC',\n",
       "       'Asthma', 'Asthma', 'COPD', 'Infected', 'COPD', 'Infected',\n",
       "       'Asthma', 'Infected', 'Infected', 'Asthma', 'COPD', 'COPD',\n",
       "       'Asthma', 'Asthma', 'HC', 'COPD', 'HC', 'Asthma', 'HC', 'Asthma',\n",
       "       'Asthma', 'Asthma', 'HC', 'Asthma', 'HC', 'Infected', 'Infected',\n",
       "       'HC', 'COPD', 'Infected', 'Infected', 'Infected', 'HC', 'HC',\n",
       "       'COPD', 'Infected', 'Asthma', 'Infected', 'Infected', 'HC',\n",
       "       'Asthma', 'Infected', 'Infected', 'Infected', 'HC', 'Infected',\n",
       "       'Asthma', 'HC', 'HC', 'Infected', 'HC', 'Infected', 'COPD', 'HC',\n",
       "       'Asthma', 'COPD', 'Asthma', 'COPD', 'Infected', 'Asthma', 'HC',\n",
       "       'HC', 'Asthma', 'Asthma', 'Infected', 'Asthma', 'HC', 'HC',\n",
       "       'Asthma', 'COPD', 'HC', 'HC', 'Infected', 'Asthma', 'HC', 'Asthma',\n",
       "       'COPD', 'HC', 'Asthma', 'HC', 'Asthma', 'Infected', 'HC', 'HC',\n",
       "       'COPD', 'HC', 'Infected', 'COPD', 'COPD', 'HC', 'Infected',\n",
       "       'Asthma', 'Asthma', 'Asthma', 'COPD', 'Asthma', 'HC', 'Asthma',\n",
       "       'COPD', 'Asthma', 'Asthma', 'HC', 'Asthma', 'HC', 'Asthma', 'HC',\n",
       "       'COPD', 'Asthma', 'Asthma', 'HC', 'Asthma', 'HC', 'Asthma', 'COPD',\n",
       "       'HC', 'Infected', 'Infected', 'COPD', 'HC', 'Asthma', 'COPD', 'HC',\n",
       "       'COPD', 'COPD', 'HC', 'Infected', 'Asthma', 'HC', 'HC', 'Infected',\n",
       "       'Infected', 'Asthma', 'COPD', 'COPD', 'Asthma', 'Infected', 'COPD',\n",
       "       'Infected', 'Asthma', 'HC', 'HC', 'HC', 'Asthma', 'HC', 'HC', 'HC',\n",
       "       'Asthma', 'Infected', 'COPD', 'HC', 'Infected', 'HC', 'HC',\n",
       "       'Asthma', 'Infected', 'COPD', 'Asthma', 'COPD', 'COPD', 'COPD',\n",
       "       'HC'], dtype=object)"
      ]
     },
     "execution_count": 49,
     "metadata": {},
     "output_type": "execute_result"
    }
   ],
   "source": [
    "y_train_pred=Knn.predict(X_train)\n",
    "y_train_pred"
   ]
  },
  {
   "cell_type": "code",
   "execution_count": 50,
   "metadata": {},
   "outputs": [
    {
     "data": {
      "text/plain": [
       "[0.8833333333333333,\n",
       " 0.85,\n",
       " 0.8583333333333333,\n",
       " 0.8666666666666667,\n",
       " 0.8583333333333333,\n",
       " 0.825,\n",
       " 0.7916666666666666,\n",
       " 0.7833333333333333,\n",
       " 0.7916666666666666,\n",
       " 0.7583333333333333,\n",
       " 0.7666666666666667,\n",
       " 0.75,\n",
       " 0.75,\n",
       " 0.7416666666666667,\n",
       " 0.7416666666666667,\n",
       " 0.6916666666666667,\n",
       " 0.7083333333333334,\n",
       " 0.7083333333333334,\n",
       " 0.7083333333333334]"
      ]
     },
     "execution_count": 50,
     "metadata": {},
     "output_type": "execute_result"
    }
   ],
   "source": [
    "from sklearn.metrics import accuracy_score\n",
    "\n",
    "scores=[]\n",
    "for k in range(1,20):\n",
    "    knn_model = KNeighborsClassifier(n_neighbors=k)\n",
    "    knn_model.fit(X_train, y_train)\n",
    "    pred_test = knn_model.predict(X_test)\n",
    "    scores.append(accuracy_score(y_test, pred_test))\n",
    "scores\n"
   ]
  },
  {
   "cell_type": "code",
   "execution_count": 51,
   "metadata": {},
   "outputs": [
    {
     "name": "stdout",
     "output_type": "stream",
     "text": [
      "For k = 1 accuracy is 0.8833333333333333\n"
     ]
    }
   ],
   "source": [
    "print(\"For k = {} accuracy is {}\".format(scores.index(max(scores))+1,max(scores)))"
   ]
  },
  {
   "cell_type": "code",
   "execution_count": 52,
   "metadata": {},
   "outputs": [
    {
     "data": {
      "text/plain": [
       "KNeighborsClassifier(metric='euclidean', n_neighbors=1)"
      ]
     },
     "execution_count": 52,
     "metadata": {},
     "output_type": "execute_result"
    }
   ],
   "source": [
    "final_model=KNeighborsClassifier(n_neighbors=1,metric='euclidean')\n",
    "final_model.fit(X_train,y_train)"
   ]
  },
  {
   "cell_type": "code",
   "execution_count": 53,
   "metadata": {},
   "outputs": [
    {
     "data": {
      "text/plain": [
       "array(['HC', 'Asthma', 'Infected', 'Asthma', 'Infected', 'HC', 'HC',\n",
       "       'Infected', 'Asthma', 'Infected', 'Asthma', 'HC', 'HC', 'Infected',\n",
       "       'Infected', 'HC', 'COPD', 'Asthma', 'Asthma', 'COPD', 'Asthma',\n",
       "       'HC', 'HC', 'HC', 'HC', 'HC', 'Infected', 'HC', 'HC', 'Infected',\n",
       "       'COPD', 'HC', 'HC', 'Asthma', 'Infected', 'COPD', 'Asthma', 'COPD',\n",
       "       'HC', 'COPD', 'HC', 'Asthma', 'Infected', 'COPD', 'COPD', 'HC',\n",
       "       'Asthma', 'HC', 'HC', 'HC', 'HC', 'HC', 'Asthma', 'HC', 'HC',\n",
       "       'COPD', 'Infected', 'Infected', 'HC', 'HC', 'HC', 'Infected',\n",
       "       'COPD', 'HC', 'Infected', 'HC', 'COPD', 'COPD', 'HC', 'HC', 'COPD',\n",
       "       'Asthma', 'HC', 'Infected', 'HC', 'Asthma', 'HC', 'Asthma', 'HC',\n",
       "       'Asthma', 'HC', 'Infected', 'Asthma', 'HC', 'Infected', 'COPD',\n",
       "       'HC', 'HC', 'HC', 'HC', 'HC', 'HC', 'HC', 'COPD', 'Asthma', 'HC',\n",
       "       'HC', 'Infected', 'HC', 'HC', 'Asthma', 'Asthma', 'HC', 'HC',\n",
       "       'Infected', 'Infected', 'HC', 'Asthma', 'Infected', 'COPD',\n",
       "       'Infected', 'HC', 'Infected', 'HC', 'HC', 'Infected', 'HC',\n",
       "       'Asthma', 'COPD', 'COPD', 'Infected', 'COPD', 'Infected', 'Asthma',\n",
       "       'Infected', 'Infected', 'COPD', 'COPD', 'COPD', 'Asthma',\n",
       "       'Infected', 'HC', 'COPD', 'HC', 'HC', 'HC', 'Asthma', 'Asthma',\n",
       "       'Asthma', 'HC', 'Asthma', 'HC', 'Infected', 'Infected', 'HC',\n",
       "       'COPD', 'Infected', 'Infected', 'Infected', 'HC', 'HC', 'COPD',\n",
       "       'Infected', 'Asthma', 'Infected', 'Infected', 'HC', 'COPD',\n",
       "       'Infected', 'Asthma', 'Infected', 'HC', 'Infected', 'Asthma', 'HC',\n",
       "       'HC', 'Infected', 'HC', 'Infected', 'COPD', 'HC', 'Asthma', 'COPD',\n",
       "       'COPD', 'COPD', 'Infected', 'Asthma', 'HC', 'HC', 'HC', 'Asthma',\n",
       "       'Infected', 'Infected', 'HC', 'HC', 'Asthma', 'COPD', 'HC', 'HC',\n",
       "       'Infected', 'HC', 'HC', 'Asthma', 'COPD', 'HC', 'Infected', 'HC',\n",
       "       'Asthma', 'Infected', 'HC', 'HC', 'COPD', 'HC', 'Infected', 'COPD',\n",
       "       'COPD', 'HC', 'Infected', 'Asthma', 'HC', 'Asthma', 'COPD',\n",
       "       'Asthma', 'HC', 'Asthma', 'COPD', 'COPD', 'Asthma', 'COPD', 'HC',\n",
       "       'HC', 'Asthma', 'HC', 'COPD', 'Asthma', 'Asthma', 'HC', 'Asthma',\n",
       "       'HC', 'Asthma', 'COPD', 'HC', 'Infected', 'Infected', 'HC', 'COPD',\n",
       "       'Asthma', 'COPD', 'HC', 'COPD', 'HC', 'HC', 'Infected', 'Asthma',\n",
       "       'HC', 'HC', 'Infected', 'Infected', 'Asthma', 'COPD', 'COPD',\n",
       "       'COPD', 'Infected', 'COPD', 'Infected', 'Asthma', 'HC', 'HC', 'HC',\n",
       "       'Asthma', 'HC', 'HC', 'HC', 'Asthma', 'Infected', 'COPD', 'HC',\n",
       "       'Infected', 'HC', 'HC', 'Asthma', 'Infected', 'COPD', 'Asthma',\n",
       "       'COPD', 'COPD', 'COPD', 'HC'], dtype=object)"
      ]
     },
     "execution_count": 53,
     "metadata": {},
     "output_type": "execute_result"
    }
   ],
   "source": [
    "final_train_pred=final_model.predict(X_train)\n",
    "final_train_pred"
   ]
  },
  {
   "cell_type": "code",
   "execution_count": 54,
   "metadata": {},
   "outputs": [
    {
     "name": "stdout",
     "output_type": "stream",
     "text": [
      "1.0\n"
     ]
    }
   ],
   "source": [
    "knn_train=accuracy_score(y_train,final_train_pred)\n",
    "print(knn_train)"
   ]
  },
  {
   "cell_type": "code",
   "execution_count": 55,
   "metadata": {},
   "outputs": [
    {
     "data": {
      "text/plain": [
       "array(['HC', 'COPD', 'Asthma', 'HC', 'Infected', 'Asthma', 'COPD', 'HC',\n",
       "       'HC', 'HC', 'Asthma', 'COPD', 'HC', 'HC', 'HC', 'HC', 'HC', 'COPD',\n",
       "       'Infected', 'COPD', 'Infected', 'HC', 'HC', 'Infected', 'COPD',\n",
       "       'Asthma', 'COPD', 'HC', 'Infected', 'HC', 'COPD', 'Infected',\n",
       "       'COPD', 'Asthma', 'Asthma', 'HC', 'Asthma', 'COPD', 'COPD',\n",
       "       'Infected', 'HC', 'HC', 'HC', 'Asthma', 'HC', 'Asthma', 'HC', 'HC',\n",
       "       'Infected', 'COPD', 'HC', 'Asthma', 'HC', 'Asthma', 'HC', 'COPD',\n",
       "       'HC', 'Infected', 'HC', 'COPD', 'HC', 'Infected', 'Infected',\n",
       "       'Infected', 'HC', 'Infected', 'COPD', 'Infected', 'COPD',\n",
       "       'Infected', 'HC', 'HC', 'COPD', 'Asthma', 'HC', 'Asthma', 'HC',\n",
       "       'COPD', 'HC', 'Infected', 'HC', 'HC', 'Infected', 'Infected', 'HC',\n",
       "       'Asthma', 'Infected', 'HC', 'Asthma', 'HC', 'Asthma', 'COPD', 'HC',\n",
       "       'Asthma', 'Asthma', 'HC', 'HC', 'HC', 'Infected', 'Asthma',\n",
       "       'Asthma', 'Infected', 'COPD', 'HC', 'Asthma', 'HC', 'HC', 'HC',\n",
       "       'HC', 'HC', 'HC', 'HC', 'Asthma', 'COPD', 'Asthma', 'Asthma', 'HC',\n",
       "       'HC', 'Infected', 'Asthma'], dtype=object)"
      ]
     },
     "execution_count": 55,
     "metadata": {},
     "output_type": "execute_result"
    }
   ],
   "source": [
    "final_test_pred=final_model.predict(X_test)\n",
    "final_test_pred"
   ]
  },
  {
   "cell_type": "code",
   "execution_count": 56,
   "metadata": {},
   "outputs": [
    {
     "name": "stdout",
     "output_type": "stream",
     "text": [
      "0.8833333333333333\n"
     ]
    }
   ],
   "source": [
    "knn_test=accuracy_score(y_test,final_test_pred)\n",
    "print(knn_test)"
   ]
  },
  {
   "cell_type": "markdown",
   "metadata": {},
   "source": [
    "# Support Vector Machine\n"
   ]
  },
  {
   "cell_type": "code",
   "execution_count": 57,
   "metadata": {},
   "outputs": [
    {
     "data": {
      "text/plain": [
       "SVC(kernel='linear')"
      ]
     },
     "execution_count": 57,
     "metadata": {},
     "output_type": "execute_result"
    }
   ],
   "source": [
    "#Import svm model\n",
    "from sklearn import svm\n",
    "\n",
    "#Create a svm Classifier\n",
    "clf = svm.SVC(kernel='linear') # Linear Kernel\n",
    "\n",
    "#Train the model using the training sets\n",
    "clf.fit(X_train, y_train)\n",
    "clf.fit(X_test,y_test)"
   ]
  },
  {
   "cell_type": "code",
   "execution_count": 58,
   "metadata": {},
   "outputs": [
    {
     "name": "stdout",
     "output_type": "stream",
     "text": [
      "0.8741007194244604\n"
     ]
    }
   ],
   "source": [
    "\n",
    "##syntax:objname.ppredict(input_values)\n",
    "y_pred_train=clf.predict(X_train)\n",
    "\n",
    "svm_train=accuracy_score(y_train,y_train_pred)\n",
    "print(svm_train)"
   ]
  },
  {
   "cell_type": "code",
   "execution_count": 59,
   "metadata": {},
   "outputs": [
    {
     "name": "stdout",
     "output_type": "stream",
     "text": [
      "0.925\n"
     ]
    }
   ],
   "source": [
    "##syntax:objname.ppredict(input_values)\n",
    "y_pred_test=clf.predict(X_test)\n",
    "svm_test=accuracy_score(y_test,y_pred_test)\n",
    "print(svm_test)"
   ]
  },
  {
   "cell_type": "markdown",
   "metadata": {},
   "source": [
    "# Decision Tree"
   ]
  },
  {
   "cell_type": "code",
   "execution_count": 60,
   "metadata": {},
   "outputs": [],
   "source": [
    "from sklearn.tree import DecisionTreeClassifier\n",
    "dt = DecisionTreeClassifier()\n",
    "dt.fit(X_train,y_train)\n",
    "pred = dt.predict(X_train)"
   ]
  },
  {
   "cell_type": "code",
   "execution_count": 61,
   "metadata": {},
   "outputs": [
    {
     "name": "stdout",
     "output_type": "stream",
     "text": [
      "1.0\n"
     ]
    }
   ],
   "source": [
    "dt_train=accuracy_score(y_train,pred)\n",
    "print(dt_train)"
   ]
  },
  {
   "cell_type": "code",
   "execution_count": 62,
   "metadata": {},
   "outputs": [
    {
     "name": "stdout",
     "output_type": "stream",
     "text": [
      "['HC' 'COPD' 'Asthma' 'HC' 'Infected' 'Asthma' 'COPD' 'HC' 'COPD' 'HC'\n",
      " 'Asthma' 'COPD' 'HC' 'HC' 'COPD' 'HC' 'HC' 'COPD' 'Infected' 'COPD'\n",
      " 'Infected' 'HC' 'HC' 'Infected' 'COPD' 'Asthma' 'COPD' 'HC' 'Infected'\n",
      " 'Asthma' 'COPD' 'Infected' 'HC' 'Asthma' 'HC' 'HC' 'Asthma' 'COPD' 'COPD'\n",
      " 'Infected' 'HC' 'HC' 'HC' 'COPD' 'Asthma' 'Asthma' 'HC' 'HC' 'Infected'\n",
      " 'HC' 'HC' 'Asthma' 'HC' 'Asthma' 'HC' 'COPD' 'HC' 'Infected' 'HC' 'COPD'\n",
      " 'HC' 'Infected' 'Infected' 'Infected' 'HC' 'Infected' 'COPD' 'Infected'\n",
      " 'COPD' 'Infected' 'HC' 'HC' 'COPD' 'Asthma' 'HC' 'Asthma' 'HC' 'COPD'\n",
      " 'Asthma' 'Infected' 'HC' 'HC' 'Infected' 'Infected' 'HC' 'Asthma'\n",
      " 'Infected' 'HC' 'Asthma' 'HC' 'Asthma' 'COPD' 'HC' 'Asthma' 'Asthma' 'HC'\n",
      " 'HC' 'HC' 'Asthma' 'Asthma' 'Asthma' 'Infected' 'COPD' 'HC' 'Asthma' 'HC'\n",
      " 'HC' 'HC' 'Infected' 'HC' 'HC' 'HC' 'Asthma' 'COPD' 'Asthma' 'Asthma'\n",
      " 'HC' 'HC' 'Infected' 'COPD']\n"
     ]
    }
   ],
   "source": [
    "test_pred=dt.predict(X_test)\n",
    "print(test_pred)\n"
   ]
  },
  {
   "cell_type": "code",
   "execution_count": 63,
   "metadata": {},
   "outputs": [
    {
     "name": "stdout",
     "output_type": "stream",
     "text": [
      "0.875\n"
     ]
    }
   ],
   "source": [
    "dt_test=accuracy_score(y_test,test_pred)\n",
    "print(dt_test)"
   ]
  },
  {
   "cell_type": "code",
   "execution_count": 64,
   "metadata": {},
   "outputs": [],
   "source": [
    "# Fitting Naive Bayes to the Training set  \n",
    "from sklearn.naive_bayes import GaussianNB  \n",
    "classifier = GaussianNB()   \n",
    "classifier.fit(X_train,y_train)\n",
    "pred = classifier.predict(X_train)"
   ]
  },
  {
   "cell_type": "code",
   "execution_count": 65,
   "metadata": {},
   "outputs": [
    {
     "name": "stdout",
     "output_type": "stream",
     "text": [
      "0.8884892086330936\n"
     ]
    }
   ],
   "source": [
    "nb_train=accuracy_score(y_train,pred)\n",
    "print(nb_train)"
   ]
  },
  {
   "cell_type": "code",
   "execution_count": 66,
   "metadata": {},
   "outputs": [],
   "source": [
    "test_pred=dt.predict(X_test)\n"
   ]
  },
  {
   "cell_type": "code",
   "execution_count": 67,
   "metadata": {
    "scrolled": false
   },
   "outputs": [
    {
     "name": "stdout",
     "output_type": "stream",
     "text": [
      "0.875\n"
     ]
    }
   ],
   "source": [
    "nb_test=accuracy_score(y_test,test_pred)\n",
    "print(nb_test)"
   ]
  },
  {
   "cell_type": "markdown",
   "metadata": {},
   "source": [
    "# Gradient boosting"
   ]
  },
  {
   "cell_type": "code",
   "execution_count": 68,
   "metadata": {},
   "outputs": [],
   "source": [
    "from sklearn.ensemble import GradientBoostingClassifier\n",
    "gbc = GradientBoostingClassifier()\n",
    "gbc.fit(X_train, y_train)\n",
    "pred=gbc.predict(X_train)"
   ]
  },
  {
   "cell_type": "code",
   "execution_count": 69,
   "metadata": {},
   "outputs": [
    {
     "name": "stdout",
     "output_type": "stream",
     "text": [
      "1.0\n"
     ]
    }
   ],
   "source": [
    "gb_train=accuracy_score(y_train,pred)\n",
    "print(gb_train)"
   ]
  },
  {
   "cell_type": "code",
   "execution_count": 70,
   "metadata": {},
   "outputs": [],
   "source": [
    "test_pred=gbc.predict(X_test)"
   ]
  },
  {
   "cell_type": "code",
   "execution_count": 71,
   "metadata": {},
   "outputs": [
    {
     "name": "stdout",
     "output_type": "stream",
     "text": [
      "0.9333333333333333\n"
     ]
    }
   ],
   "source": [
    "gb_test=accuracy_score(y_test,test_pred)\n",
    "print(gb_test)"
   ]
  },
  {
   "cell_type": "code",
   "execution_count": 72,
   "metadata": {},
   "outputs": [],
   "source": [
    "acc=[]\n",
    "acc.append(knn_train*100)\n",
    "acc.append(knn_test*100)\n",
    "acc.append(svm_train*100)\n",
    "acc.append(svm_test*100)\n",
    "acc.append(nb_train*100)\n",
    "acc.append(nb_test*100)\n",
    "acc.append(dt_train*100)\n",
    "acc.append(dt_test*100)\n",
    "acc.append(gb_train*100)\n",
    "acc.append(gb_test*100)"
   ]
  },
  {
   "cell_type": "code",
   "execution_count": 73,
   "metadata": {
    "scrolled": true
   },
   "outputs": [
    {
     "name": "stdout",
     "output_type": "stream",
     "text": [
      " knn traning data accuracy = 100.0\n",
      " knn testing data accuracy = 88.33333333333333\n",
      " svm traning data accuracy = 87.41007194244604 \n",
      " svm testing data accuracy = 92.5\n",
      " NB training data accuracy = 88.84892086330936 \n",
      " NB testing data accuracy = 87.5 \n",
      " DT training data accuracy = 100.0 \n",
      " DT testing data accuracy = 87.5 \n",
      " GB training data accuracy = 100.0 \n",
      " GB testing data accuracy = 93.33333333333333\n"
     ]
    }
   ],
   "source": [
    "print(' knn traning data accuracy = {}\\n knn testing data accuracy = {}\\n svm traning data accuracy = {} \\n svm testing data accuracy = {}\\n NB training data accuracy = {} \\n NB testing data accuracy = {} \\n DT training data accuracy = {} \\n DT testing data accuracy = {} \\n GB training data accuracy = {} \\n GB testing data accuracy = {}'.format(acc[0],acc[1],acc[2],acc[3],acc[4],acc[5],acc[6],acc[7],acc[8],acc[9]))"
   ]
  },
  {
   "cell_type": "code",
   "execution_count": 74,
   "metadata": {},
   "outputs": [
    {
     "data": {
      "image/png": "[encoded data removed]",
      "text/plain": [
       "<Figure size 720x360 with 1 Axes>"
      ]
     },
     "metadata": {
      "needs_background": "light"
     },
     "output_type": "display_data"
    }
   ],
   "source": [
    "import matplotlib.pyplot as plt\n",
    "fig = plt.figure(figsize = (10,5))\n",
    "algo=['KNN_train','KNN_test','svm_train','svm_test','nb_train','nb_test','dt_train','dt_test','gb_train','gb_test']\n",
    "\n",
    "plt.bar(algo,acc,color=['red','green','red','green','red','green','red','green','red','green'])\n",
    "plt.xlabel('Algorithms')\n",
    "plt.ylabel('Accuracy')\n",
    "plt.show()"
   ]
  },
  {
   "cell_type": "code",
   "execution_count": 76,
   "metadata": {},
   "outputs": [
    {
     "name": "stdout",
     "output_type": "stream",
     "text": [
      "The final prediction on the test set is ['HC']\n",
      "knn Prediction on the second test set is: ['COPD']\n"
     ]
    }
   ],
   "source": [
    "\n",
    "testSet = [[-311,-305,-422,-445,1,67,1]]\n",
    "test = pd.DataFrame(testSet)\n",
    "\n",
    "result1=gbc.predict(test)\n",
    "print('The final prediction on the test set is',result1)\n",
    "\n",
    "\n",
    "testSet2 = [[-323,-301,-405,-466,0,92,2]]\n",
    "test = pd.DataFrame(testSet2)\n",
    "result2=gbc.predict(test)\n",
    "\n",
    "print('knn Prediction on the second test set is:',result2)\n"
   ]
  },
  {
   "cell_type": "code",
   "execution_count": null,
   "metadata": {},
   "outputs": [],
   "source": []
  }
 ],
 "metadata": {
  "kernelspec": {
   "display_name": "Python 3",
   "language": "python",
   "name": "python3"
  },
  "language_info": {
   "codemirror_mode": {
    "name": "ipython",
    "version": 3
   },
   "file_extension": ".py",
   "mimetype": "text/x-python",
   "name": "python",
   "nbconvert_exporter": "python",
   "pygments_lexer": "ipython3",
   "version": "3.8.5"
  }
 },
 "nbformat": 4,
 "nbformat_minor": 2
}
