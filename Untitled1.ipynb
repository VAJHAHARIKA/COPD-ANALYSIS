{
 "cells": [
  {
   "cell_type": "code",
   "execution_count": 1,
   "metadata": {},
   "outputs": [],
   "source": [
    "import pandas as pd\n",
    "import numpy as np\n",
    "import matplotlib.pyplot as plt\n",
    "import seaborn as sns\n",
    "import math\n",
    "from __future__ import division\n",
    "%matplotlib inline"
   ]
  },
  {
   "cell_type": "code",
   "execution_count": 2,
   "metadata": {},
   "outputs": [],
   "source": [
    "from sklearn.preprocessing import StandardScaler\n",
    "from sklearn.neighbors import KNeighborsClassifier\n",
    "from sklearn.metrics import accuracy_score"
   ]
  },
  {
   "cell_type": "code",
   "execution_count": 3,
   "metadata": {},
   "outputs": [],
   "source": [
    "df=pd.read_csv('data.csv')"
   ]
  },
  {
   "cell_type": "code",
   "execution_count": 4,
   "metadata": {},
   "outputs": [],
   "source": [
    "df.columns = ['Diagnosis','Imaginary_min','Imaginary_avg','Real_min','Real_avg','Gender','Age','Smoking']"
   ]
  },
  {
   "cell_type": "code",
   "execution_count": 5,
   "metadata": {},
   "outputs": [],
   "source": [
    "dfn=pd.notnull(df['Imaginary_avg'])\n",
    "dfnt=df[dfn]"
   ]
  },
  {
   "cell_type": "code",
   "execution_count": 6,
   "metadata": {},
   "outputs": [
    {
     "data": {
      "text/plain": [
       "(99, 8)"
      ]
     },
     "execution_count": 6,
     "metadata": {},
     "output_type": "execute_result"
    }
   ],
   "source": [
    "dfnt.shape"
   ]
  },
  {
   "cell_type": "code",
   "execution_count": 7,
   "metadata": {},
   "outputs": [],
   "source": [
    "column_names = ['Imaginary_min','Imaginary_avg','Real_min','Real_avg','Gender','Age','Smoking','Diagnosis']\n",
    "\n",
    "training_data = dfnt.reindex(columns=column_names)\n"
   ]
  },
  {
   "cell_type": "code",
   "execution_count": 8,
   "metadata": {},
   "outputs": [],
   "source": [
    "outputs = training_data.iloc[: , -1]\n",
    "inputs = training_data.iloc[: , :-1]\n"
   ]
  },
  {
   "cell_type": "code",
   "execution_count": 9,
   "metadata": {},
   "outputs": [],
   "source": [
    "from sklearn.model_selection import train_test_split\n",
    "X_train,X_test,y_train,y_test = train_test_split(inputs,outputs,test_size=0.30,random_state=2)"
   ]
  },
  {
   "cell_type": "code",
   "execution_count": 10,
   "metadata": {},
   "outputs": [],
   "source": [
    "from sklearn.ensemble import GradientBoostingClassifier\n",
    "gbc = GradientBoostingClassifier()\n",
    "gbc.fit(X_train, y_train)\n",
    "pred=gbc.predict(X_train)"
   ]
  },
  {
   "cell_type": "code",
   "execution_count": 11,
   "metadata": {},
   "outputs": [
    {
     "name": "stdout",
     "output_type": "stream",
     "text": [
      "1.0\n"
     ]
    }
   ],
   "source": [
    "gb_train=accuracy_score(y_train,pred)\n",
    "print(gb_train)"
   ]
  },
  {
   "cell_type": "code",
   "execution_count": 12,
   "metadata": {},
   "outputs": [],
   "source": [
    "test_pred=gbc.predict(X_test)"
   ]
  },
  {
   "cell_type": "code",
   "execution_count": 13,
   "metadata": {},
   "outputs": [
    {
     "name": "stdout",
     "output_type": "stream",
     "text": [
      "0.7666666666666667\n"
     ]
    }
   ],
   "source": [
    "gb_test=accuracy_score(y_test,test_pred)\n",
    "print(gb_test)"
   ]
  },
  {
   "cell_type": "code",
   "execution_count": 14,
   "metadata": {},
   "outputs": [
    {
     "data": {
      "text/plain": [
       "KNeighborsClassifier(metric='euclidean', n_neighbors=6)"
      ]
     },
     "execution_count": 14,
     "metadata": {},
     "output_type": "execute_result"
    }
   ],
   "source": [
    "from sklearn.neighbors import KNeighborsClassifier\n",
    "Knn=KNeighborsClassifier(n_neighbors=6,metric='euclidean')\n",
    "\n",
    "## apply the knn object on the dataset(training phase)\n",
    "Knn.fit(X_train, y_train)"
   ]
  },
  {
   "cell_type": "code",
   "execution_count": 15,
   "metadata": {},
   "outputs": [
    {
     "data": {
      "text/plain": [
       "array(['COPD', 'COPD', 'HC', 'Infected', 'COPD', 'HC', 'COPD', 'HC', 'HC',\n",
       "       'COPD', 'COPD', 'HC', 'HC', 'HC', 'Infected', 'COPD', 'COPD',\n",
       "       'COPD', 'HC', 'HC', 'COPD', 'Infected', 'HC', 'HC', 'HC', 'HC',\n",
       "       'HC', 'HC', 'HC', 'COPD', 'HC', 'Asthma', 'Infected', 'HC',\n",
       "       'Asthma', 'Asthma', 'HC', 'HC', 'HC', 'Asthma', 'HC', 'HC',\n",
       "       'Asthma', 'HC', 'HC', 'COPD', 'COPD', 'Asthma', 'HC', 'HC',\n",
       "       'Infected', 'HC', 'COPD', 'COPD', 'COPD', 'COPD', 'HC', 'Infected',\n",
       "       'HC', 'HC', 'HC', 'COPD', 'HC', 'Asthma', 'HC', 'COPD', 'Asthma',\n",
       "       'COPD', 'HC'], dtype=object)"
      ]
     },
     "execution_count": 15,
     "metadata": {},
     "output_type": "execute_result"
    }
   ],
   "source": [
    "y_train_pred=Knn.predict(X_train)\n",
    "y_train_pred"
   ]
  },
  {
   "cell_type": "code",
   "execution_count": 16,
   "metadata": {},
   "outputs": [
    {
     "data": {
      "text/plain": [
       "[0.7,\n",
       " 0.6666666666666666,\n",
       " 0.7333333333333333,\n",
       " 0.7666666666666667,\n",
       " 0.7,\n",
       " 0.7,\n",
       " 0.7,\n",
       " 0.7666666666666667,\n",
       " 0.7666666666666667,\n",
       " 0.7666666666666667,\n",
       " 0.7666666666666667,\n",
       " 0.7333333333333333,\n",
       " 0.7666666666666667,\n",
       " 0.8,\n",
       " 0.7666666666666667,\n",
       " 0.7666666666666667,\n",
       " 0.7666666666666667,\n",
       " 0.7666666666666667,\n",
       " 0.7666666666666667]"
      ]
     },
     "execution_count": 16,
     "metadata": {},
     "output_type": "execute_result"
    }
   ],
   "source": [
    "from sklearn.metrics import accuracy_score\n",
    "\n",
    "scores=[]\n",
    "for k in range(1,20):\n",
    "    knn_model = KNeighborsClassifier(n_neighbors=k)\n",
    "    knn_model.fit(X_train, y_train)\n",
    "    pred_test = knn_model.predict(X_test)\n",
    "    scores.append(accuracy_score(y_test, pred_test))\n",
    "scores\n"
   ]
  },
  {
   "cell_type": "code",
   "execution_count": 17,
   "metadata": {},
   "outputs": [
    {
     "data": {
      "text/plain": [
       "[<matplotlib.lines.Line2D at 0x7f984b7d6d90>]"
      ]
     },
     "execution_count": 17,
     "metadata": {},
     "output_type": "execute_result"
    },
    {
     "data": {
      "image/png": "[encoded data removed]",
      "text/plain": [
       "<Figure size 432x288 with 1 Axes>"
      ]
     },
     "metadata": {
      "needs_background": "light"
     },
     "output_type": "display_data"
    }
   ],
   "source": [
    "plt.plot(range(1,20),scores,marker='o',markerfacecolor='r',linestyle='--')"
   ]
  },
  {
   "cell_type": "code",
   "execution_count": 18,
   "metadata": {},
   "outputs": [
    {
     "name": "stdout",
     "output_type": "stream",
     "text": [
      "For k = 14 accuracy is 0.8\n"
     ]
    }
   ],
   "source": [
    "print(\"For k = {} accuracy is {}\".format(scores.index(max(scores))+1,max(scores)))"
   ]
  },
  {
   "cell_type": "code",
   "execution_count": 19,
   "metadata": {},
   "outputs": [
    {
     "data": {
      "text/plain": [
       "KNeighborsClassifier(metric='euclidean', n_neighbors=14)"
      ]
     },
     "execution_count": 19,
     "metadata": {},
     "output_type": "execute_result"
    }
   ],
   "source": [
    "final_model=KNeighborsClassifier(n_neighbors=14,metric='euclidean')\n",
    "final_model.fit(X_train,y_train)"
   ]
  },
  {
   "cell_type": "code",
   "execution_count": 20,
   "metadata": {},
   "outputs": [
    {
     "data": {
      "text/plain": [
       "array(['COPD', 'COPD', 'COPD', 'HC', 'COPD', 'HC', 'COPD', 'HC', 'HC',\n",
       "       'Asthma', 'COPD', 'HC', 'HC', 'HC', 'HC', 'COPD', 'COPD', 'COPD',\n",
       "       'HC', 'HC', 'COPD', 'HC', 'COPD', 'HC', 'HC', 'Asthma', 'HC', 'HC',\n",
       "       'HC', 'COPD', 'HC', 'HC', 'HC', 'HC', 'Asthma', 'Asthma', 'HC',\n",
       "       'HC', 'HC', 'HC', 'HC', 'HC', 'HC', 'HC', 'COPD', 'COPD', 'COPD',\n",
       "       'HC', 'HC', 'HC', 'HC', 'HC', 'COPD', 'COPD', 'COPD', 'COPD', 'HC',\n",
       "       'HC', 'HC', 'HC', 'HC', 'COPD', 'HC', 'COPD', 'HC', 'COPD', 'HC',\n",
       "       'COPD', 'HC'], dtype=object)"
      ]
     },
     "execution_count": 20,
     "metadata": {},
     "output_type": "execute_result"
    }
   ],
   "source": [
    "final_train_pred=final_model.predict(X_train)\n",
    "final_train_pred"
   ]
  },
  {
   "cell_type": "code",
   "execution_count": 21,
   "metadata": {},
   "outputs": [
    {
     "name": "stdout",
     "output_type": "stream",
     "text": [
      "0.7246376811594203\n"
     ]
    }
   ],
   "source": [
    "knn_train=accuracy_score(y_train,final_train_pred)\n",
    "print(knn_train)"
   ]
  },
  {
   "cell_type": "code",
   "execution_count": 22,
   "metadata": {},
   "outputs": [
    {
     "data": {
      "text/plain": [
       "array(['Asthma', 'COPD', 'HC', 'COPD', 'COPD', 'COPD', 'COPD', 'COPD',\n",
       "       'COPD', 'COPD', 'HC', 'HC', 'COPD', 'COPD', 'COPD', 'HC', 'COPD',\n",
       "       'COPD', 'HC', 'HC', 'COPD', 'COPD', 'COPD', 'HC', 'Infected',\n",
       "       'COPD', 'COPD', 'HC', 'HC', 'HC'], dtype=object)"
      ]
     },
     "execution_count": 22,
     "metadata": {},
     "output_type": "execute_result"
    }
   ],
   "source": [
    "final_test_pred=final_model.predict(X_test)\n",
    "final_test_pred"
   ]
  },
  {
   "cell_type": "code",
   "execution_count": 23,
   "metadata": {},
   "outputs": [
    {
     "name": "stdout",
     "output_type": "stream",
     "text": [
      "0.8\n"
     ]
    }
   ],
   "source": [
    "knn_test=accuracy_score(y_test,final_test_pred)\n",
    "print(knn_test)"
   ]
  },
  {
   "cell_type": "markdown",
   "metadata": {},
   "source": [
    "# Support Vector Machine\n"
   ]
  },
  {
   "cell_type": "code",
   "execution_count": 24,
   "metadata": {},
   "outputs": [
    {
     "data": {
      "text/plain": [
       "SVC(kernel='linear')"
      ]
     },
     "execution_count": 24,
     "metadata": {},
     "output_type": "execute_result"
    }
   ],
   "source": [
    "#Import svm model\n",
    "from sklearn import svm\n",
    "\n",
    "#Create a svm Classifier\n",
    "clf = svm.SVC(kernel='linear') # Linear Kernel\n",
    "\n",
    "#Train the model using the training sets\n",
    "clf.fit(X_train, y_train)\n",
    "clf.fit(X_test,y_test)"
   ]
  },
  {
   "cell_type": "code",
   "execution_count": 25,
   "metadata": {},
   "outputs": [
    {
     "name": "stdout",
     "output_type": "stream",
     "text": [
      "0.7536231884057971\n"
     ]
    }
   ],
   "source": [
    "\n",
    "##syntax:objname.ppredict(input_values)\n",
    "y_pred_train=clf.predict(X_train)\n",
    "\n",
    "svm_train=accuracy_score(y_train,y_train_pred)\n",
    "print(svm_train)"
   ]
  },
  {
   "cell_type": "code",
   "execution_count": 26,
   "metadata": {},
   "outputs": [
    {
     "name": "stdout",
     "output_type": "stream",
     "text": [
      "0.9666666666666667\n"
     ]
    }
   ],
   "source": [
    "##syntax:objname.ppredict(input_values)\n",
    "y_pred_test=clf.predict(X_test)\n",
    "svm_test=accuracy_score(y_test,y_pred_test)\n",
    "print(svm_test)"
   ]
  },
  {
   "cell_type": "markdown",
   "metadata": {},
   "source": [
    "# Decision Tree"
   ]
  },
  {
   "cell_type": "code",
   "execution_count": 27,
   "metadata": {},
   "outputs": [],
   "source": [
    "from sklearn.tree import DecisionTreeClassifier\n",
    "dt = DecisionTreeClassifier()\n",
    "dt.fit(X_train,y_train)\n",
    "pred = dt.predict(X_train)"
   ]
  },
  {
   "cell_type": "code",
   "execution_count": 28,
   "metadata": {},
   "outputs": [
    {
     "name": "stdout",
     "output_type": "stream",
     "text": [
      "1.0\n"
     ]
    }
   ],
   "source": [
    "dt_train=accuracy_score(y_train,pred)\n",
    "print(dt_train)"
   ]
  },
  {
   "cell_type": "code",
   "execution_count": 29,
   "metadata": {},
   "outputs": [],
   "source": [
    "test_pred=dt.predict(X_test)\n"
   ]
  },
  {
   "cell_type": "code",
   "execution_count": 30,
   "metadata": {},
   "outputs": [
    {
     "name": "stdout",
     "output_type": "stream",
     "text": [
      "0.8\n"
     ]
    }
   ],
   "source": [
    "dt_test=accuracy_score(y_test,test_pred)\n",
    "print(dt_test)"
   ]
  },
  {
   "cell_type": "code",
   "execution_count": 31,
   "metadata": {},
   "outputs": [],
   "source": [
    "# Fitting Naive Bayes to the Training set  \n",
    "from sklearn.naive_bayes import GaussianNB  \n",
    "classifier = GaussianNB()   \n",
    "classifier.fit(X_train,y_train)\n",
    "pred = classifier.predict(X_train)"
   ]
  },
  {
   "cell_type": "code",
   "execution_count": 32,
   "metadata": {},
   "outputs": [
    {
     "name": "stdout",
     "output_type": "stream",
     "text": [
      "0.7246376811594203\n"
     ]
    }
   ],
   "source": [
    "nb_train=accuracy_score(y_train,pred)\n",
    "print(nb_train)"
   ]
  },
  {
   "cell_type": "code",
   "execution_count": 33,
   "metadata": {},
   "outputs": [],
   "source": [
    "test_pred=dt.predict(X_test)\n"
   ]
  },
  {
   "cell_type": "code",
   "execution_count": 34,
   "metadata": {},
   "outputs": [
    {
     "name": "stdout",
     "output_type": "stream",
     "text": [
      "0.8\n"
     ]
    }
   ],
   "source": [
    "nb_test=accuracy_score(y_test,test_pred)\n",
    "print(nb_test)"
   ]
  },
  {
   "cell_type": "code",
   "execution_count": 35,
   "metadata": {},
   "outputs": [],
   "source": [
    "acc=[]\n",
    "acc.append(knn_train*100)\n",
    "acc.append(knn_test*100)\n",
    "acc.append(svm_train*100)\n",
    "acc.append(svm_test*100)\n",
    "acc.append(nb_train*100)\n",
    "acc.append(nb_test*100)\n",
    "acc.append(dt_train*100)\n",
    "acc.append(dt_test*100)\n",
    "acc.append(gb_train*100)\n",
    "acc.append(gb_test*100)"
   ]
  },
  {
   "cell_type": "code",
   "execution_count": 36,
   "metadata": {},
   "outputs": [
    {
     "name": "stdout",
     "output_type": "stream",
     "text": [
      " knn traning data accuracy = 72.46376811594203\n",
      " knn testing data accuracy = 80.0\n",
      " svm traning data accuracy = 75.36231884057972 \n",
      " svm testing data accuracy = 96.66666666666667\n",
      " NB training data accuracy = 72.46376811594203 \n",
      " NB testing data accuracy = 80.0 \n",
      " DT training data accuracy = 100.0 \n",
      " DT testing data accuracy = 80.0 \n",
      " GB training data accuracy = 100.0 \n",
      " GB testing data accuracy = 76.66666666666667\n"
     ]
    }
   ],
   "source": [
    "print(' knn traning data accuracy = {}\\n knn testing data accuracy = {}\\n svm traning data accuracy = {} \\n svm testing data accuracy = {}\\n NB training data accuracy = {} \\n NB testing data accuracy = {} \\n DT training data accuracy = {} \\n DT testing data accuracy = {} \\n GB training data accuracy = {} \\n GB testing data accuracy = {}'.format(acc[0],acc[1],acc[2],acc[3],acc[4],acc[5],acc[6],acc[7],acc[8],acc[9]))"
   ]
  },
  {
   "cell_type": "code",
   "execution_count": 37,
   "metadata": {},
   "outputs": [
    {
     "data": {
      "image/png": "[encoded data removed]",
      "text/plain": [
       "<Figure size 720x360 with 1 Axes>"
      ]
     },
     "metadata": {
      "needs_background": "light"
     },
     "output_type": "display_data"
    }
   ],
   "source": [
    "import matplotlib.pyplot as plt\n",
    "fig = plt.figure(figsize = (10,5))\n",
    "algo=['KNN_train','KNN_test','svm_train','svm_test','nb_train','nb_test','dt_train','dt_test','gb_train','gb_test']\n",
    "\n",
    "plt.bar(algo,acc,color=['red','green','red','green','red','green','red','green','red','green'])\n",
    "plt.xlabel('Algorithms')\n",
    "plt.ylabel('Accuracy')\n",
    "plt.show()"
   ]
  },
  {
   "cell_type": "code",
   "execution_count": 46,
   "metadata": {},
   "outputs": [
    {
     "ename": "NameError",
     "evalue": "name 'knn' is not defined",
     "output_type": "error",
     "traceback": [
      "\u001b[0;31m---------------------------------------------------------------------------\u001b[0m",
      "\u001b[0;31mNameError\u001b[0m                                 Traceback (most recent call last)",
      "\u001b[0;32m<ipython-input-46-509a5ed48683>\u001b[0m in \u001b[0;36m<module>\u001b[0;34m\u001b[0m\n\u001b[1;32m      2\u001b[0m \u001b[0mtest\u001b[0m \u001b[0;34m=\u001b[0m \u001b[0mpd\u001b[0m\u001b[0;34m.\u001b[0m\u001b[0mDataFrame\u001b[0m\u001b[0;34m(\u001b[0m\u001b[0mtestSet\u001b[0m\u001b[0;34m)\u001b[0m\u001b[0;34m\u001b[0m\u001b[0;34m\u001b[0m\u001b[0m\n\u001b[1;32m      3\u001b[0m \u001b[0;34m\u001b[0m\u001b[0m\n\u001b[0;32m----> 4\u001b[0;31m \u001b[0mresult1\u001b[0m\u001b[0;34m=\u001b[0m\u001b[0mknn\u001b[0m\u001b[0;34m.\u001b[0m\u001b[0mpredict\u001b[0m\u001b[0;34m(\u001b[0m\u001b[0mtest\u001b[0m\u001b[0;34m)\u001b[0m\u001b[0;34m\u001b[0m\u001b[0;34m\u001b[0m\u001b[0m\n\u001b[0m\u001b[1;32m      5\u001b[0m \u001b[0mt2\u001b[0m \u001b[0;34m=\u001b[0m \u001b[0mdatetime\u001b[0m\u001b[0;34m.\u001b[0m\u001b[0mnow\u001b[0m\u001b[0;34m(\u001b[0m\u001b[0;34m)\u001b[0m\u001b[0;34m\u001b[0m\u001b[0;34m\u001b[0m\u001b[0m\n\u001b[1;32m      6\u001b[0m \u001b[0mdelta\u001b[0m \u001b[0;34m=\u001b[0m \u001b[0mt2\u001b[0m\u001b[0;34m-\u001b[0m\u001b[0mt1\u001b[0m\u001b[0;34m\u001b[0m\u001b[0;34m\u001b[0m\u001b[0m\n",
      "\u001b[0;31mNameError\u001b[0m: name 'knn' is not defined"
     ]
    }
   ],
   "source": [
    "testSet = [[-311,-305,-422,-445,1,67,1]]\n",
    "test = pd.DataFrame(testSet)\n",
    "\n",
    "result1=knn.predict(test)\n",
    "t2 = datetime.now()\n",
    "delta = t2-t1\n",
    "print('Time taken by knn Euclid on Citations dataset is:',delta)\n",
    "print('knn Prediction on the first test set is:',result1)\n",
    "\n",
    "testSet2 = [[-323,-301,-405,-466,0,92,2]]\n",
    "test = pd.DataFrame(testSet2)\n",
    "result2=knn.predict(test)\n",
    "print('knn Prediction on the second test set is:',result2)\n",
    "\n"
   ]
  },
  {
   "cell_type": "code",
   "execution_count": null,
   "metadata": {},
   "outputs": [],
   "source": []
  },
  {
   "cell_type": "code",
   "execution_count": null,
   "metadata": {},
   "outputs": [],
   "source": []
  }
 ],
 "metadata": {
  "kernelspec": {
   "display_name": "Python 3",
   "language": "python",
   "name": "python3"
  },
  "language_info": {
   "codemirror_mode": {
    "name": "ipython",
    "version": 3
   },
   "file_extension": ".py",
   "mimetype": "text/x-python",
   "name": "python",
   "nbconvert_exporter": "python",
   "pygments_lexer": "ipython3",
   "version": "3.8.5"
  }
 },
 "nbformat": 4,
 "nbformat_minor": 2
}
